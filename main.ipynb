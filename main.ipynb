{
  "nbformat": 4,
  "nbformat_minor": 0,
  "metadata": {
    "colab": {
      "provenance": [],
      "collapsed_sections": [
        "szp5flp1fA8-",
        "KDloBuvnHQTS",
        "r1AM-AcqkbyF",
        "8wXbGsoYkm60",
        "tBxuJtHck2Oo",
        "s3z_zaNWlet8",
        "yoavB8H_ljVn",
        "MlRfYVIylkQf",
        "NGH1FcttllvS",
        "Sx0kwIdalmmY",
        "S-DVSzwDvKvE",
        "H6LTAPYplxvi",
        "iaEBltZXln-Q",
        "l5GwlqRdlpEu",
        "U_7bv7aG4UJe",
        "B7DOz9nh4XAb",
        "cqvLtj7t4VMN",
        "GsLj1NhZl1ya",
        "d7Lc9KfMYU8Y",
        "VkD30ljxlyw9",
        "bJzxcKIfz8Qt",
        "8iWUAktvPLYp",
        "rzaQj8dEOfzb",
        "UptjjiCOTSS2"
      ]
    },
    "kernelspec": {
      "name": "python3",
      "display_name": "Python 3"
    },
    "language_info": {
      "name": "python"
    },
    "widgets": {
      "application/vnd.jupyter.widget-state+json": {
        "2a0ce287e50445c3a5e4419e2da3701e": {
          "model_module": "@jupyter-widgets/controls",
          "model_name": "VBoxModel",
          "model_module_version": "1.5.0",
          "state": {
            "_dom_classes": [
              "widget-interact"
            ],
            "_model_module": "@jupyter-widgets/controls",
            "_model_module_version": "1.5.0",
            "_model_name": "VBoxModel",
            "_view_count": null,
            "_view_module": "@jupyter-widgets/controls",
            "_view_module_version": "1.5.0",
            "_view_name": "VBoxView",
            "box_style": "",
            "children": [
              "IPY_MODEL_fa8336ebe6574b95b0066a4cdb48be43",
              "IPY_MODEL_704a9b3be1e846499f7ddbab1a45b5e9",
              "IPY_MODEL_847fdc39017843508b7954838a839aee",
              "IPY_MODEL_297af401548c41c2b58160164f45c771"
            ],
            "layout": "IPY_MODEL_fa584cb40be84b29856f4c618fd8cf35"
          }
        },
        "fa8336ebe6574b95b0066a4cdb48be43": {
          "model_module": "@jupyter-widgets/controls",
          "model_name": "IntSliderModel",
          "model_module_version": "1.5.0",
          "state": {
            "_dom_classes": [],
            "_model_module": "@jupyter-widgets/controls",
            "_model_module_version": "1.5.0",
            "_model_name": "IntSliderModel",
            "_view_count": null,
            "_view_module": "@jupyter-widgets/controls",
            "_view_module_version": "1.5.0",
            "_view_name": "IntSliderView",
            "continuous_update": true,
            "description": "a",
            "description_tooltip": null,
            "disabled": false,
            "layout": "IPY_MODEL_be5af6ccd49c4d0e84c9308e9e64a723",
            "max": 9,
            "min": -9,
            "orientation": "horizontal",
            "readout": true,
            "readout_format": "d",
            "step": 1,
            "style": "IPY_MODEL_c562ff91132945178ec4d2e668ef620a",
            "value": 2
          }
        },
        "704a9b3be1e846499f7ddbab1a45b5e9": {
          "model_module": "@jupyter-widgets/controls",
          "model_name": "IntSliderModel",
          "model_module_version": "1.5.0",
          "state": {
            "_dom_classes": [],
            "_model_module": "@jupyter-widgets/controls",
            "_model_module_version": "1.5.0",
            "_model_name": "IntSliderModel",
            "_view_count": null,
            "_view_module": "@jupyter-widgets/controls",
            "_view_module_version": "1.5.0",
            "_view_name": "IntSliderView",
            "continuous_update": true,
            "description": "b",
            "description_tooltip": null,
            "disabled": false,
            "layout": "IPY_MODEL_9c156296ddd7495a9e3934c4c5769701",
            "max": 9,
            "min": -9,
            "orientation": "horizontal",
            "readout": true,
            "readout_format": "d",
            "step": 1,
            "style": "IPY_MODEL_d674f450c3414d868facfc86d3350aad",
            "value": -3
          }
        },
        "847fdc39017843508b7954838a839aee": {
          "model_module": "@jupyter-widgets/controls",
          "model_name": "IntSliderModel",
          "model_module_version": "1.5.0",
          "state": {
            "_dom_classes": [],
            "_model_module": "@jupyter-widgets/controls",
            "_model_module_version": "1.5.0",
            "_model_name": "IntSliderModel",
            "_view_count": null,
            "_view_module": "@jupyter-widgets/controls",
            "_view_module_version": "1.5.0",
            "_view_name": "IntSliderView",
            "continuous_update": true,
            "description": "c",
            "description_tooltip": null,
            "disabled": false,
            "layout": "IPY_MODEL_3a2a8f839a8b43ad8b565d40de569607",
            "max": 9,
            "min": -9,
            "orientation": "horizontal",
            "readout": true,
            "readout_format": "d",
            "step": 1,
            "style": "IPY_MODEL_aa60b6ffa1b64197b642a69a02f71296",
            "value": -7
          }
        },
        "297af401548c41c2b58160164f45c771": {
          "model_module": "@jupyter-widgets/output",
          "model_name": "OutputModel",
          "model_module_version": "1.0.0",
          "state": {
            "_dom_classes": [],
            "_model_module": "@jupyter-widgets/output",
            "_model_module_version": "1.0.0",
            "_model_name": "OutputModel",
            "_view_count": null,
            "_view_module": "@jupyter-widgets/output",
            "_view_module_version": "1.0.0",
            "_view_name": "OutputView",
            "layout": "IPY_MODEL_1de2714c6f184d76bbfaa3d3f940dbde",
            "msg_id": "",
            "outputs": [
              {
                "output_type": "display_data",
                "data": {
                  "text/plain": "<Figure size 640x480 with 1 Axes>",
                  "image/png": "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\n"
                },
                "metadata": {}
              }
            ]
          }
        },
        "fa584cb40be84b29856f4c618fd8cf35": {
          "model_module": "@jupyter-widgets/base",
          "model_name": "LayoutModel",
          "model_module_version": "1.2.0",
          "state": {
            "_model_module": "@jupyter-widgets/base",
            "_model_module_version": "1.2.0",
            "_model_name": "LayoutModel",
            "_view_count": null,
            "_view_module": "@jupyter-widgets/base",
            "_view_module_version": "1.2.0",
            "_view_name": "LayoutView",
            "align_content": null,
            "align_items": null,
            "align_self": null,
            "border": null,
            "bottom": null,
            "display": null,
            "flex": null,
            "flex_flow": null,
            "grid_area": null,
            "grid_auto_columns": null,
            "grid_auto_flow": null,
            "grid_auto_rows": null,
            "grid_column": null,
            "grid_gap": null,
            "grid_row": null,
            "grid_template_areas": null,
            "grid_template_columns": null,
            "grid_template_rows": null,
            "height": null,
            "justify_content": null,
            "justify_items": null,
            "left": null,
            "margin": null,
            "max_height": null,
            "max_width": null,
            "min_height": null,
            "min_width": null,
            "object_fit": null,
            "object_position": null,
            "order": null,
            "overflow": null,
            "overflow_x": null,
            "overflow_y": null,
            "padding": null,
            "right": null,
            "top": null,
            "visibility": null,
            "width": null
          }
        },
        "be5af6ccd49c4d0e84c9308e9e64a723": {
          "model_module": "@jupyter-widgets/base",
          "model_name": "LayoutModel",
          "model_module_version": "1.2.0",
          "state": {
            "_model_module": "@jupyter-widgets/base",
            "_model_module_version": "1.2.0",
            "_model_name": "LayoutModel",
            "_view_count": null,
            "_view_module": "@jupyter-widgets/base",
            "_view_module_version": "1.2.0",
            "_view_name": "LayoutView",
            "align_content": null,
            "align_items": null,
            "align_self": null,
            "border": null,
            "bottom": null,
            "display": null,
            "flex": null,
            "flex_flow": null,
            "grid_area": null,
            "grid_auto_columns": null,
            "grid_auto_flow": null,
            "grid_auto_rows": null,
            "grid_column": null,
            "grid_gap": null,
            "grid_row": null,
            "grid_template_areas": null,
            "grid_template_columns": null,
            "grid_template_rows": null,
            "height": null,
            "justify_content": null,
            "justify_items": null,
            "left": null,
            "margin": null,
            "max_height": null,
            "max_width": null,
            "min_height": null,
            "min_width": null,
            "object_fit": null,
            "object_position": null,
            "order": null,
            "overflow": null,
            "overflow_x": null,
            "overflow_y": null,
            "padding": null,
            "right": null,
            "top": null,
            "visibility": null,
            "width": null
          }
        },
        "c562ff91132945178ec4d2e668ef620a": {
          "model_module": "@jupyter-widgets/controls",
          "model_name": "SliderStyleModel",
          "model_module_version": "1.5.0",
          "state": {
            "_model_module": "@jupyter-widgets/controls",
            "_model_module_version": "1.5.0",
            "_model_name": "SliderStyleModel",
            "_view_count": null,
            "_view_module": "@jupyter-widgets/base",
            "_view_module_version": "1.2.0",
            "_view_name": "StyleView",
            "description_width": "",
            "handle_color": null
          }
        },
        "9c156296ddd7495a9e3934c4c5769701": {
          "model_module": "@jupyter-widgets/base",
          "model_name": "LayoutModel",
          "model_module_version": "1.2.0",
          "state": {
            "_model_module": "@jupyter-widgets/base",
            "_model_module_version": "1.2.0",
            "_model_name": "LayoutModel",
            "_view_count": null,
            "_view_module": "@jupyter-widgets/base",
            "_view_module_version": "1.2.0",
            "_view_name": "LayoutView",
            "align_content": null,
            "align_items": null,
            "align_self": null,
            "border": null,
            "bottom": null,
            "display": null,
            "flex": null,
            "flex_flow": null,
            "grid_area": null,
            "grid_auto_columns": null,
            "grid_auto_flow": null,
            "grid_auto_rows": null,
            "grid_column": null,
            "grid_gap": null,
            "grid_row": null,
            "grid_template_areas": null,
            "grid_template_columns": null,
            "grid_template_rows": null,
            "height": null,
            "justify_content": null,
            "justify_items": null,
            "left": null,
            "margin": null,
            "max_height": null,
            "max_width": null,
            "min_height": null,
            "min_width": null,
            "object_fit": null,
            "object_position": null,
            "order": null,
            "overflow": null,
            "overflow_x": null,
            "overflow_y": null,
            "padding": null,
            "right": null,
            "top": null,
            "visibility": null,
            "width": null
          }
        },
        "d674f450c3414d868facfc86d3350aad": {
          "model_module": "@jupyter-widgets/controls",
          "model_name": "SliderStyleModel",
          "model_module_version": "1.5.0",
          "state": {
            "_model_module": "@jupyter-widgets/controls",
            "_model_module_version": "1.5.0",
            "_model_name": "SliderStyleModel",
            "_view_count": null,
            "_view_module": "@jupyter-widgets/base",
            "_view_module_version": "1.2.0",
            "_view_name": "StyleView",
            "description_width": "",
            "handle_color": null
          }
        },
        "3a2a8f839a8b43ad8b565d40de569607": {
          "model_module": "@jupyter-widgets/base",
          "model_name": "LayoutModel",
          "model_module_version": "1.2.0",
          "state": {
            "_model_module": "@jupyter-widgets/base",
            "_model_module_version": "1.2.0",
            "_model_name": "LayoutModel",
            "_view_count": null,
            "_view_module": "@jupyter-widgets/base",
            "_view_module_version": "1.2.0",
            "_view_name": "LayoutView",
            "align_content": null,
            "align_items": null,
            "align_self": null,
            "border": null,
            "bottom": null,
            "display": null,
            "flex": null,
            "flex_flow": null,
            "grid_area": null,
            "grid_auto_columns": null,
            "grid_auto_flow": null,
            "grid_auto_rows": null,
            "grid_column": null,
            "grid_gap": null,
            "grid_row": null,
            "grid_template_areas": null,
            "grid_template_columns": null,
            "grid_template_rows": null,
            "height": null,
            "justify_content": null,
            "justify_items": null,
            "left": null,
            "margin": null,
            "max_height": null,
            "max_width": null,
            "min_height": null,
            "min_width": null,
            "object_fit": null,
            "object_position": null,
            "order": null,
            "overflow": null,
            "overflow_x": null,
            "overflow_y": null,
            "padding": null,
            "right": null,
            "top": null,
            "visibility": null,
            "width": null
          }
        },
        "aa60b6ffa1b64197b642a69a02f71296": {
          "model_module": "@jupyter-widgets/controls",
          "model_name": "SliderStyleModel",
          "model_module_version": "1.5.0",
          "state": {
            "_model_module": "@jupyter-widgets/controls",
            "_model_module_version": "1.5.0",
            "_model_name": "SliderStyleModel",
            "_view_count": null,
            "_view_module": "@jupyter-widgets/base",
            "_view_module_version": "1.2.0",
            "_view_name": "StyleView",
            "description_width": "",
            "handle_color": null
          }
        },
        "1de2714c6f184d76bbfaa3d3f940dbde": {
          "model_module": "@jupyter-widgets/base",
          "model_name": "LayoutModel",
          "model_module_version": "1.2.0",
          "state": {
            "_model_module": "@jupyter-widgets/base",
            "_model_module_version": "1.2.0",
            "_model_name": "LayoutModel",
            "_view_count": null,
            "_view_module": "@jupyter-widgets/base",
            "_view_module_version": "1.2.0",
            "_view_name": "LayoutView",
            "align_content": null,
            "align_items": null,
            "align_self": null,
            "border": null,
            "bottom": null,
            "display": null,
            "flex": null,
            "flex_flow": null,
            "grid_area": null,
            "grid_auto_columns": null,
            "grid_auto_flow": null,
            "grid_auto_rows": null,
            "grid_column": null,
            "grid_gap": null,
            "grid_row": null,
            "grid_template_areas": null,
            "grid_template_columns": null,
            "grid_template_rows": null,
            "height": null,
            "justify_content": null,
            "justify_items": null,
            "left": null,
            "margin": null,
            "max_height": null,
            "max_width": null,
            "min_height": null,
            "min_width": null,
            "object_fit": null,
            "object_position": null,
            "order": null,
            "overflow": null,
            "overflow_x": null,
            "overflow_y": null,
            "padding": null,
            "right": null,
            "top": null,
            "visibility": null,
            "width": null
          }
        },
        "6eab6fbd85f64cfeab78be459ad22b8f": {
          "model_module": "@jupyter-widgets/controls",
          "model_name": "VBoxModel",
          "model_module_version": "1.5.0",
          "state": {
            "_dom_classes": [
              "widget-interact"
            ],
            "_model_module": "@jupyter-widgets/controls",
            "_model_module_version": "1.5.0",
            "_model_name": "VBoxModel",
            "_view_count": null,
            "_view_module": "@jupyter-widgets/controls",
            "_view_module_version": "1.5.0",
            "_view_name": "VBoxView",
            "box_style": "",
            "children": [
              "IPY_MODEL_e8bcacf3b4b24dd4ab976477fd0c17b8",
              "IPY_MODEL_ba4e9b767cae4dc693887bed36e50be4",
              "IPY_MODEL_9611142236034714989378f1522ae8cd"
            ],
            "layout": "IPY_MODEL_c7482b25020449aabb5cb0164988e65a"
          }
        },
        "e8bcacf3b4b24dd4ab976477fd0c17b8": {
          "model_module": "@jupyter-widgets/controls",
          "model_name": "IntSliderModel",
          "model_module_version": "1.5.0",
          "state": {
            "_dom_classes": [],
            "_model_module": "@jupyter-widgets/controls",
            "_model_module_version": "1.5.0",
            "_model_name": "IntSliderModel",
            "_view_count": null,
            "_view_module": "@jupyter-widgets/controls",
            "_view_module_version": "1.5.0",
            "_view_name": "IntSliderView",
            "continuous_update": true,
            "description": "a",
            "description_tooltip": null,
            "disabled": false,
            "layout": "IPY_MODEL_51e54683ebaa48a7a01d38ae76e64260",
            "max": -1,
            "min": -9,
            "orientation": "horizontal",
            "readout": true,
            "readout_format": "d",
            "step": 1,
            "style": "IPY_MODEL_4a0a2dd2dc0946fe968f45d97f92e19f",
            "value": -8
          }
        },
        "ba4e9b767cae4dc693887bed36e50be4": {
          "model_module": "@jupyter-widgets/controls",
          "model_name": "IntSliderModel",
          "model_module_version": "1.5.0",
          "state": {
            "_dom_classes": [],
            "_model_module": "@jupyter-widgets/controls",
            "_model_module_version": "1.5.0",
            "_model_name": "IntSliderModel",
            "_view_count": null,
            "_view_module": "@jupyter-widgets/controls",
            "_view_module_version": "1.5.0",
            "_view_name": "IntSliderView",
            "continuous_update": true,
            "description": "b",
            "description_tooltip": null,
            "disabled": false,
            "layout": "IPY_MODEL_96bcffaf8e1b4468b4672c0f497800cd",
            "max": 9,
            "min": 1,
            "orientation": "horizontal",
            "readout": true,
            "readout_format": "d",
            "step": 1,
            "style": "IPY_MODEL_2d625b9170bc4ac5a7de74aa0c6da7b4",
            "value": 2
          }
        },
        "9611142236034714989378f1522ae8cd": {
          "model_module": "@jupyter-widgets/output",
          "model_name": "OutputModel",
          "model_module_version": "1.0.0",
          "state": {
            "_dom_classes": [],
            "_model_module": "@jupyter-widgets/output",
            "_model_module_version": "1.0.0",
            "_model_name": "OutputModel",
            "_view_count": null,
            "_view_module": "@jupyter-widgets/output",
            "_view_module_version": "1.0.0",
            "_view_name": "OutputView",
            "layout": "IPY_MODEL_28311ca5c5354f4bab6b909f18c0fbd5",
            "msg_id": "",
            "outputs": [
              {
                "output_type": "display_data",
                "data": {
                  "text/plain": "<Figure size 640x480 with 1 Axes>",
                  "image/png": "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\n"
                },
                "metadata": {}
              }
            ]
          }
        },
        "c7482b25020449aabb5cb0164988e65a": {
          "model_module": "@jupyter-widgets/base",
          "model_name": "LayoutModel",
          "model_module_version": "1.2.0",
          "state": {
            "_model_module": "@jupyter-widgets/base",
            "_model_module_version": "1.2.0",
            "_model_name": "LayoutModel",
            "_view_count": null,
            "_view_module": "@jupyter-widgets/base",
            "_view_module_version": "1.2.0",
            "_view_name": "LayoutView",
            "align_content": null,
            "align_items": null,
            "align_self": null,
            "border": null,
            "bottom": null,
            "display": null,
            "flex": null,
            "flex_flow": null,
            "grid_area": null,
            "grid_auto_columns": null,
            "grid_auto_flow": null,
            "grid_auto_rows": null,
            "grid_column": null,
            "grid_gap": null,
            "grid_row": null,
            "grid_template_areas": null,
            "grid_template_columns": null,
            "grid_template_rows": null,
            "height": null,
            "justify_content": null,
            "justify_items": null,
            "left": null,
            "margin": null,
            "max_height": null,
            "max_width": null,
            "min_height": null,
            "min_width": null,
            "object_fit": null,
            "object_position": null,
            "order": null,
            "overflow": null,
            "overflow_x": null,
            "overflow_y": null,
            "padding": null,
            "right": null,
            "top": null,
            "visibility": null,
            "width": null
          }
        },
        "51e54683ebaa48a7a01d38ae76e64260": {
          "model_module": "@jupyter-widgets/base",
          "model_name": "LayoutModel",
          "model_module_version": "1.2.0",
          "state": {
            "_model_module": "@jupyter-widgets/base",
            "_model_module_version": "1.2.0",
            "_model_name": "LayoutModel",
            "_view_count": null,
            "_view_module": "@jupyter-widgets/base",
            "_view_module_version": "1.2.0",
            "_view_name": "LayoutView",
            "align_content": null,
            "align_items": null,
            "align_self": null,
            "border": null,
            "bottom": null,
            "display": null,
            "flex": null,
            "flex_flow": null,
            "grid_area": null,
            "grid_auto_columns": null,
            "grid_auto_flow": null,
            "grid_auto_rows": null,
            "grid_column": null,
            "grid_gap": null,
            "grid_row": null,
            "grid_template_areas": null,
            "grid_template_columns": null,
            "grid_template_rows": null,
            "height": null,
            "justify_content": null,
            "justify_items": null,
            "left": null,
            "margin": null,
            "max_height": null,
            "max_width": null,
            "min_height": null,
            "min_width": null,
            "object_fit": null,
            "object_position": null,
            "order": null,
            "overflow": null,
            "overflow_x": null,
            "overflow_y": null,
            "padding": null,
            "right": null,
            "top": null,
            "visibility": null,
            "width": null
          }
        },
        "4a0a2dd2dc0946fe968f45d97f92e19f": {
          "model_module": "@jupyter-widgets/controls",
          "model_name": "SliderStyleModel",
          "model_module_version": "1.5.0",
          "state": {
            "_model_module": "@jupyter-widgets/controls",
            "_model_module_version": "1.5.0",
            "_model_name": "SliderStyleModel",
            "_view_count": null,
            "_view_module": "@jupyter-widgets/base",
            "_view_module_version": "1.2.0",
            "_view_name": "StyleView",
            "description_width": "",
            "handle_color": null
          }
        },
        "96bcffaf8e1b4468b4672c0f497800cd": {
          "model_module": "@jupyter-widgets/base",
          "model_name": "LayoutModel",
          "model_module_version": "1.2.0",
          "state": {
            "_model_module": "@jupyter-widgets/base",
            "_model_module_version": "1.2.0",
            "_model_name": "LayoutModel",
            "_view_count": null,
            "_view_module": "@jupyter-widgets/base",
            "_view_module_version": "1.2.0",
            "_view_name": "LayoutView",
            "align_content": null,
            "align_items": null,
            "align_self": null,
            "border": null,
            "bottom": null,
            "display": null,
            "flex": null,
            "flex_flow": null,
            "grid_area": null,
            "grid_auto_columns": null,
            "grid_auto_flow": null,
            "grid_auto_rows": null,
            "grid_column": null,
            "grid_gap": null,
            "grid_row": null,
            "grid_template_areas": null,
            "grid_template_columns": null,
            "grid_template_rows": null,
            "height": null,
            "justify_content": null,
            "justify_items": null,
            "left": null,
            "margin": null,
            "max_height": null,
            "max_width": null,
            "min_height": null,
            "min_width": null,
            "object_fit": null,
            "object_position": null,
            "order": null,
            "overflow": null,
            "overflow_x": null,
            "overflow_y": null,
            "padding": null,
            "right": null,
            "top": null,
            "visibility": null,
            "width": null
          }
        },
        "2d625b9170bc4ac5a7de74aa0c6da7b4": {
          "model_module": "@jupyter-widgets/controls",
          "model_name": "SliderStyleModel",
          "model_module_version": "1.5.0",
          "state": {
            "_model_module": "@jupyter-widgets/controls",
            "_model_module_version": "1.5.0",
            "_model_name": "SliderStyleModel",
            "_view_count": null,
            "_view_module": "@jupyter-widgets/base",
            "_view_module_version": "1.2.0",
            "_view_name": "StyleView",
            "description_width": "",
            "handle_color": null
          }
        },
        "28311ca5c5354f4bab6b909f18c0fbd5": {
          "model_module": "@jupyter-widgets/base",
          "model_name": "LayoutModel",
          "model_module_version": "1.2.0",
          "state": {
            "_model_module": "@jupyter-widgets/base",
            "_model_module_version": "1.2.0",
            "_model_name": "LayoutModel",
            "_view_count": null,
            "_view_module": "@jupyter-widgets/base",
            "_view_module_version": "1.2.0",
            "_view_name": "LayoutView",
            "align_content": null,
            "align_items": null,
            "align_self": null,
            "border": null,
            "bottom": null,
            "display": null,
            "flex": null,
            "flex_flow": null,
            "grid_area": null,
            "grid_auto_columns": null,
            "grid_auto_flow": null,
            "grid_auto_rows": null,
            "grid_column": null,
            "grid_gap": null,
            "grid_row": null,
            "grid_template_areas": null,
            "grid_template_columns": null,
            "grid_template_rows": null,
            "height": null,
            "justify_content": null,
            "justify_items": null,
            "left": null,
            "margin": null,
            "max_height": null,
            "max_width": null,
            "min_height": null,
            "min_width": null,
            "object_fit": null,
            "object_position": null,
            "order": null,
            "overflow": null,
            "overflow_x": null,
            "overflow_y": null,
            "padding": null,
            "right": null,
            "top": null,
            "visibility": null,
            "width": null
          }
        },
        "16f96f0f87d14c38921b0c81ec90e98d": {
          "model_module": "@jupyter-widgets/controls",
          "model_name": "VBoxModel",
          "model_module_version": "1.5.0",
          "state": {
            "_dom_classes": [
              "widget-interact"
            ],
            "_model_module": "@jupyter-widgets/controls",
            "_model_module_version": "1.5.0",
            "_model_name": "VBoxModel",
            "_view_count": null,
            "_view_module": "@jupyter-widgets/controls",
            "_view_module_version": "1.5.0",
            "_view_name": "VBoxView",
            "box_style": "",
            "children": [
              "IPY_MODEL_64b8ec32587a4708a561ddbed58a5aa6",
              "IPY_MODEL_aba588a5a7ab4e8e96a4c4bca2559a06",
              "IPY_MODEL_b2e0bea4fdf744098017b628f75c2d45",
              "IPY_MODEL_507d329761a74471bdbe608d67be6cc9",
              "IPY_MODEL_31576af9bac44f9b98f5e777b9cdfebd"
            ],
            "layout": "IPY_MODEL_9abf303a1ee840e7a594414edbf31fe2"
          }
        },
        "64b8ec32587a4708a561ddbed58a5aa6": {
          "model_module": "@jupyter-widgets/controls",
          "model_name": "FloatSliderModel",
          "model_module_version": "1.5.0",
          "state": {
            "_dom_classes": [],
            "_model_module": "@jupyter-widgets/controls",
            "_model_module_version": "1.5.0",
            "_model_name": "FloatSliderModel",
            "_view_count": null,
            "_view_module": "@jupyter-widgets/controls",
            "_view_module_version": "1.5.0",
            "_view_name": "FloatSliderView",
            "continuous_update": true,
            "description": "a (x³)",
            "description_tooltip": null,
            "disabled": false,
            "layout": "IPY_MODEL_7753a6f5ce4e4a3ba3582f80dc14f51a",
            "max": 10,
            "min": -10,
            "orientation": "horizontal",
            "readout": true,
            "readout_format": ".2f",
            "step": 0.1,
            "style": "IPY_MODEL_5b935e1e8a9149618423f3c5edc976a8",
            "value": 0
          }
        },
        "aba588a5a7ab4e8e96a4c4bca2559a06": {
          "model_module": "@jupyter-widgets/controls",
          "model_name": "FloatSliderModel",
          "model_module_version": "1.5.0",
          "state": {
            "_dom_classes": [],
            "_model_module": "@jupyter-widgets/controls",
            "_model_module_version": "1.5.0",
            "_model_name": "FloatSliderModel",
            "_view_count": null,
            "_view_module": "@jupyter-widgets/controls",
            "_view_module_version": "1.5.0",
            "_view_name": "FloatSliderView",
            "continuous_update": true,
            "description": "b (x²)",
            "description_tooltip": null,
            "disabled": false,
            "layout": "IPY_MODEL_4414ad3f45434a00b0c1dab1237015a9",
            "max": 10,
            "min": -10,
            "orientation": "horizontal",
            "readout": true,
            "readout_format": ".2f",
            "step": 0.1,
            "style": "IPY_MODEL_0ff0cf9d336142c99ce522032233f667",
            "value": -0.1
          }
        },
        "b2e0bea4fdf744098017b628f75c2d45": {
          "model_module": "@jupyter-widgets/controls",
          "model_name": "FloatSliderModel",
          "model_module_version": "1.5.0",
          "state": {
            "_dom_classes": [],
            "_model_module": "@jupyter-widgets/controls",
            "_model_module_version": "1.5.0",
            "_model_name": "FloatSliderModel",
            "_view_count": null,
            "_view_module": "@jupyter-widgets/controls",
            "_view_module_version": "1.5.0",
            "_view_name": "FloatSliderView",
            "continuous_update": true,
            "description": "c (x)",
            "description_tooltip": null,
            "disabled": false,
            "layout": "IPY_MODEL_3392fd96f73444319a145988e0fa252c",
            "max": 10,
            "min": -10,
            "orientation": "horizontal",
            "readout": true,
            "readout_format": ".2f",
            "step": 0.1,
            "style": "IPY_MODEL_e8b6df36610648508d329a239eb30343",
            "value": -0.1
          }
        },
        "507d329761a74471bdbe608d67be6cc9": {
          "model_module": "@jupyter-widgets/controls",
          "model_name": "FloatSliderModel",
          "model_module_version": "1.5.0",
          "state": {
            "_dom_classes": [],
            "_model_module": "@jupyter-widgets/controls",
            "_model_module_version": "1.5.0",
            "_model_name": "FloatSliderModel",
            "_view_count": null,
            "_view_module": "@jupyter-widgets/controls",
            "_view_module_version": "1.5.0",
            "_view_name": "FloatSliderView",
            "continuous_update": true,
            "description": "d (constant)",
            "description_tooltip": null,
            "disabled": false,
            "layout": "IPY_MODEL_77322d1e5f1940fab6bb88480ca8595f",
            "max": 10,
            "min": -10,
            "orientation": "horizontal",
            "readout": true,
            "readout_format": ".2f",
            "step": 0.1,
            "style": "IPY_MODEL_4cf8fd9035fb4c6a9ebf491371928970",
            "value": -0.1
          }
        },
        "31576af9bac44f9b98f5e777b9cdfebd": {
          "model_module": "@jupyter-widgets/output",
          "model_name": "OutputModel",
          "model_module_version": "1.0.0",
          "state": {
            "_dom_classes": [],
            "_model_module": "@jupyter-widgets/output",
            "_model_module_version": "1.0.0",
            "_model_name": "OutputModel",
            "_view_count": null,
            "_view_module": "@jupyter-widgets/output",
            "_view_module_version": "1.0.0",
            "_view_name": "OutputView",
            "layout": "IPY_MODEL_d05f212f31084d589ec0fbbac28ae857",
            "msg_id": "",
            "outputs": [
              {
                "output_type": "display_data",
                "data": {
                  "text/plain": "<Figure size 800x600 with 1 Axes>",
                  "image/png": "iVBORw0KGgoAAAANSUhEUgAAAroAAAIjCAYAAADslLiSAAAAOXRFWHRTb2Z0d2FyZQBNYXRwbG90bGliIHZlcnNpb24zLjguMCwgaHR0cHM6Ly9tYXRwbG90bGliLm9yZy81sbWrAAAACXBIWXMAAA9hAAAPYQGoP6dpAAB1qklEQVR4nO3dd3gU1dvG8e+mJ0CoofcugoAgCKKAoDRFFEGKNBEBQUGQJkhREZWm8hPFFkBQqmJDqWIDFWkKAgJSpBeBUJNNMu8f581CyAYSSDJb7s915drZyczuvSeT5NnZM+c4LMuyEBERERHxMQF2BxARERERyQwqdEVERETEJ6nQFRERERGfpEJXRERERHySCl0RERER8UkqdEVERETEJ6nQFRERERGfpEJXRERERHySCl0RERER8UkqdEVE/l/Xrl0pWbKk3TFumMPhYPTo0XbHyBA38jMpWbIkXbt2zdA8dmjQoAGVK1e2O4aIV1KhKyIATJ8+HYfDwe+//57ufc+fP8/o0aNZtWpVxgfLYAcPHmT06NFs3LjR7iguXbt2xeFwuL4iIyOpWrUqEydOJDY21u54fiE2NpYpU6ZQr149cufOTUhICIULF6Zly5Z88sknJCQk2B1RRK5DkN0BRMT7nT9/njFjxgDm7JMnO3jwIGPGjKFkyZJUq1Yt2ffee+89EhMTbckVGhrK+++/D8CpU6dYuHAhzz77LGvXrmXOnDm2ZPIEWfEzOXbsGM2aNWPdunU0adKEESNGkCdPHg4fPszy5cvp0KEDO3fu5Pnnn8/UHCKS8VToiojHOnfuHNmyZcuy5wsODs6y57pSUFAQjz76qOv+k08+Se3atZk7dy6TJk2icOHCtmWzU1b8TDp16sSGDRtYuHAhDz30ULLvDRs2jN9//53t27df9TEuXrxISEgIAQH6oFTEk+g3UkRS1bVrV7Jnz86BAwdo1aoV2bNnJyoqimeffdb1Ue6ePXuIiooCYMyYMa6P3y/vI7pt2zYefvhh8uTJQ1hYGDVr1uSLL75I9lxJXSe+//57nnzySfLnz0/RokUB2Lt3L08++SQVKlQgPDycvHnz0qZNG/bs2ZMi86lTp3jmmWcoWbIkoaGhFC1alM6dO3P8+HFWrVrFbbfdBkC3bt1cWadPn+56vUn9QZ1OJ3ny5KFbt24pniMmJoawsDCeffZZ17rY2FhGjRpF2bJlCQ0NpVixYgwePPi6ux4EBAS4zo4nvc6jR4/SvXt3ChQoQFhYGFWrVmXGjBlXfZzvvvsOh8PBZ599luJ7H3/8MQ6HgzVr1gBp+3knOXfuHAMHDqRYsWKEhoZSoUIFJkyYgGVZybZzOBz07duX+fPnU6lSJcLDw6lTpw5//vknANOmTaNs2bKEhYXRoEGDFD9Td310J0yYQN26dcmbNy/h4eHUqFGDBQsWXLUdUrNmzRqWLFnCE088kaLITVKzZk06duzour9q1SocDgdz5sxhxIgRFClShIiICGJiYvjvv/949tlnqVKlCtmzZycyMpJmzZqxadOmZI+Z9Bhz587lueeeo2DBgmTLlo2WLVvy77//us3x119/0bBhQyIiIihSpAivvfbadb1mEX+iM7oiclUJCQk0adKE2rVrM2HCBJYvX87EiRMpU6YMvXv3JioqirfffpvevXvz4IMPuoqFW265BYAtW7Zwxx13UKRIEYYOHUq2bNmYN28erVq1YuHChTz44IPJnu/JJ58kKiqKkSNHcu7cOQDWrl3L6tWradeuHUWLFmXPnj28/fbbNGjQgL/++ouIiAgAzp49y5133snWrVt57LHHuPXWWzl+/DhffPEF+/fv56abbuKFF15g5MiRPPHEE9x5550A1K1bN8XrDg4O5sEHH+TTTz9l2rRphISEuL63aNEiYmNjadeuHQCJiYm0bNmSn376iSeeeIKbbrqJP//8k8mTJ/P333+zaNGi62r7Xbt2AZA3b14uXLhAgwYN2LlzJ3379qVUqVLMnz+frl27curUKfr16+f2MRo0aECxYsWYPXt2iraePXs2ZcqUoU6dOq511/p5A1iWRcuWLfnuu+/o3r071apVY8mSJQwaNIgDBw4wefLkZM/z448/8sUXX9CnTx8Axo0bx3333cfgwYOZOnUqTz75JCdPnuS1117jscceY+XKlVdtlzfeeIOWLVvSsWNH4uLimDNnDm3atOGrr76iRYsW6WrjL7/8EiDZ2fS0evHFFwkJCeHZZ58lNjaWkJAQ/vrrLxYtWkSbNm0oVaoUR44cYdq0adSvX5+//vorxZn5sWPH4nA4GDJkCEePHuX111+ncePGbNy4kfDwcNd2J0+epGnTpjz00EO0bduWBQsWMGTIEKpUqUKzZs3SnV3Eb1giIpZlRUdHW4C1du1a17ouXbpYgPXCCy8k27Z69epWjRo1XPePHTtmAdaoUaNSPG6jRo2sKlWqWBcvXnStS0xMtOrWrWuVK1cuxfPXq1fPio+PT/YY58+fT/G4a9assQBr5syZrnUjR460AOvTTz9NsX1iYqJlWZa1du1aC7Cio6NTbNOlSxerRIkSrvtLliyxAOvLL79Mtl3z5s2t0qVLu+5/9NFHVkBAgPXjjz8m2+6dd96xAOvnn39O8VxXPm+2bNmsY8eOWceOHbN27txpvfzyy5bD4bBuueUWy7Is6/XXX7cAa9asWa794uLirDp16ljZs2e3YmJiXOuv/FkMGzbMCg0NtU6dOuVad/ToUSsoKCjZdmn9eS9atMgCrJdeeinZdg8//LDlcDisnTt3JssSGhpq7d6927Vu2rRpFmAVLFgwWe5hw4ZZQLJtr/yZWFbK4yEuLs6qXLmydffddydbX6JECatLly7W1Tz44IMWkKxtLMuyLly44Pp5HDt2zDp58qTre999950FWKVLl06R5eLFi1ZCQkKydbt377ZCQ0OTtWvSYxQpUiRZG8ybN88CrDfeeMO1rn79+imO9djYWKtgwYJW69atr/r6RPydui6IyDX16tUr2f0777yTf/7555r7/ffff6xcuZK2bdty5swZjh8/zvHjxzlx4gRNmjRhx44dHDhwINk+PXr0IDAwMNm6y89sOZ1OTpw4QdmyZcmVKxfr1693fW/hwoVUrVo1xZlLMB+hp9fdd99Nvnz5mDt3rmvdyZMnWbZsGY888ohr3fz587npppuoWLGi6zUeP36cu+++GzDdB67l3LlzREVFERUVRdmyZXnuueeoU6eOq8vB4sWLKViwIO3bt3ftExwczNNPP83Zs2f5/vvvU33szp07Exsbm+zj/blz5xIfH+/2TOa1ft6LFy8mMDCQp59+Otl2AwcOxLIsvvnmm2TrGzVqlKz7Qe3atQFo3bo1OXLkSLH+WsfWlWc6T58+zZ133pnsWEirmJgYALJnz55s/TvvvOP6eURFRVGvXr0U+3bp0iVZFjAXFSb1001ISODEiRNkz56dChUquM3XuXPnZG3w8MMPU6hQIRYvXpxsu+zZsyf7WYWEhFCrVq00/R6K+DN1XRCRqwoLC3P1wU2SO3duTp48ec19d+7ciWVZPP/886lesX706FGKFCniul+qVKkU21y4cIFx48YRHR3NgQMHkvUDPX36tGt5165dtG7d+pq50iooKIjWrVvz8ccfExsbS2hoKJ9++ilOpzNZobtjxw62bt2aop2SHD169JrPFRYW5voYPTQ0lFKlSrn6KIPpp1yuXLkUFzvddNNNru+npmLFitx2223Mnj2b7t27A6bbwu23307ZsmVT5LjWz3vv3r0ULlw4WYF2tSzFixdPdj9nzpwAFCtWzO36ax1bX331FS+99BIbN25M1gf6et7MJL2Gs2fPup4fTBGeNHbtwIED3Q4v5u5YTUxM5I033mDq1Kns3r072X558+ZNsX25cuWS3Xc4HJQtWzZFX+WiRYumeH25c+fmjz/+uMYrFPFvKnRF5KquPLuaHknDQj377LM0adLE7TZXFlpXniEDeOqpp4iOjqZ///7UqVOHnDlz4nA4aNeuXaYPPdWuXTumTZvGN998Q6tWrZg3bx4VK1akatWqrm0SExOpUqUKkyZNcvsYVxZ07gQGBtK4ceMMy32lzp07069fP/bv309sbCy//PIL//vf/9zmyGipPWZq660rLmi73I8//kjLli256667mDp1KoUKFSI4OJjo6Gg+/vjjdGerWLEiAJs3b+aOO+5wrS9WrJjr55Y7d26OHz+eYl93x+rLL7/M888/z2OPPcaLL75Injx5CAgIoH///jd0rF5PW4mICl0RyQCpnUkrXbo0YD5iv5EibsGCBXTp0oWJEye61l28eJFTp04l265MmTJs3rz5urKm5q677qJQoULMnTuXevXqsXLlSoYPH57ieTdt2kSjRo2u66xiWpQoUYI//viDxMTEZGd1t23b5vr+1bRr144BAwbwySefcOHCBYKDg5OdlU5vluXLl3PmzJlkZ3XTmuVGLFy4kLCwMJYsWUJoaKhrfXR09HU93n333ccrr7zC7NmzkxW612vBggU0bNiQDz74INn6U6dOkS9fvhTb79ixI9l9y7LYuXOn62JOEbkx6qMrIjcsadSDKwvP/Pnz06BBA6ZNm8ahQ4dS7Hfs2LE0PX5gYGCKM1dTpkxJ8XFy69at2bRpk9uhtJL2TxqX98qsqQkICODhhx/myy+/5KOPPiI+Pj5Fgdi2bVsOHDjAe++9l2L/CxcuuEaPuBHNmzfn8OHDyfoLx8fHM2XKFLJnz079+vWvun++fPlo1qwZs2bNYvbs2TRt2tRt4ZXWLAkJCSnOCE+ePBmHw5GpowAEBgbicDiS/ez37Nlz3SNb3HHHHdxzzz28++67fP755263Sc9ZU3fH6vz581P0RU8yc+ZMzpw547q/YMECDh06pJEURDKIzuiKyA0LDw+nUqVKzJ07l/Lly5MnTx4qV65M5cqVeeutt6hXrx5VqlShR48elC5dmiNHjrBmzRr279+fYnxRd+677z4++ugjcubMSaVKlVizZg3Lly9P0edx0KBBLFiwgDZt2vDYY49Ro0YN/vvvP7744gveeecdqlatSpkyZciVKxfvvPMOOXLkIFu2bNSuXdttf8skjzzyCFOmTGHUqFFUqVLF1Rc1SadOnZg3bx69evXiu+++44477iAhIYFt27Yxb948lixZQs2aNa+vcf/fE088wbRp0+jatSvr1q2jZMmSLFiwgJ9//pnXX389RX9Zdzp37szDDz8MmKGxrtf9999Pw4YNGT58OHv27KFq1aosXbqUzz//nP79+1OmTJnrfuxradGiBZMmTaJp06Z06NCBo0eP8tZbb1G2bNnr7q86a9YsmjZtSqtWrWjWrBmNGzcmd+7crpnRfvjhhzQXnvfddx8vvPAC3bp1o27duvz555/Mnj3b9enGlfLkyUO9evXo1q0bR44c4fXXX6ds2bL06NHjul6LiCSnQldEMsT777/PU089xTPPPENcXByjRo2icuXKVKpUid9//50xY8Ywffp0Tpw4Qf78+alevTojR45M02O/8cYbBAYGMnv2bC5evMgdd9zB8uXLU/T7zZ49Oz/++COjRo3is88+Y8aMGeTPn59GjRq5LuwKDg5mxowZDBs2jF69ehEfH090dPRVC926detSrFgx/v33X7cf9wcEBLBo0SImT57MzJkz+eyzz4iIiKB06dL069eP8uXLp6Ml3QsPD2fVqlUMHTqUGTNmEBMTQ4UKFYiOjqZr165peoz777+f3Llzu8b9vV4BAQF88cUXjBw5krlz5xIdHU3JkiUZP348AwcOvO7HTYu7776bDz74gFdeeYX+/ftTqlQpXn31Vfbs2XPdhW7+/PlZvXo106ZNY+7cuYwZM4bz58+TL18+atasyezZs9PczeO5557j3LlzfPzxx8ydO5dbb72Vr7/+mqFDh6a6/R9//MG4ceM4c+YMjRo1YurUqa5PSUTkxjgs9WQXEfEL8fHxFC5cmPvvvz9FH1LJWqtWraJhw4bMnz/fdZZdRDKe+uiKiPiJRYsWcezYMTp37mx3FBGRLKGuCyIiPu7XX3/ljz/+4MUXX6R69erXvHBNRMRX6IyuiIiPe/vtt+nduzf58+dn5syZdscREcky6qMrIiIiIj5JZ3RFRERExCep0BURERERn6SL0a6QmJjIwYMHyZEjR6ZN5SkiIiIi18+yLM6cOUPhwoWTTYt+JRW6Vzh48CDFihWzO4aIiIiIXMO///7rmhDIHRW6V0iaRvPff/8lMjIy05/P6XSydOlS7r33XoKDgzP9+byF2iV1ahv31C6pczqd3HvvvSxdulRtcxkdM+6pXVKntnHPjnaJiYmhWLFi15z+XIXuFZK6K0RGRmZZoRsREUFkZKR+aS6jdkmd2sY9tUvqnE4ngYGBapsr6JhxT+2SOrWNe3a2y7W6mepiNBERERHxSSp0RURERMQnqdAVEREREZ+kQldEREREfJIKXRERERHxSSp0RURERMQnqdAVEREREZ+kQldEREREfJIKXRERERHxSSp0RURERMQnqdAVEREREZ/kk4XuW2+9RcmSJQkLC6N27dr89ttvdkcSERERkSzmc4Xu3LlzGTBgAKNGjWL9+vVUrVqVJk2acPToUbujiYiIiEgW8rlCd9KkSfTo0YNu3bpRqVIl3nnnHSIiIvjwww/tjiYiIiIiWSjI7gAZKS4ujnXr1jFs2DDXuoCAABo3bsyaNWvc7hMbG0tsbKzrfkxMDABOpxOn05m5gf//eS6/FUPtkjq1jXtql9SpbdxTu7indkmd2sY9O9olrc/lsCzLyuQsWebgwYMUKVKE1atXU6dOHdf6wYMH8/333/Prr7+m2Gf06NGMGTMmxfpbb72VwMDATM0rIpJVduzYQbly5eyOISKSIRISEli/fj2nT58mMjIy1e186ozu9Rg2bBgDBgxw3Y+JiaFYsWIsXbr0qg2XUZxOJ8uWLeOee+4hODg405/PW6hdUqe2cc8X2iUhAU6dghMn4Nw5uHjRwcWLcPEixMVBQAAEBpqvgADIlg2yZ7eIjMT1FeTmr7rT6aRBgwasWrXKa9smM/jCMZMZ1C6pU9u4Z0e7xMTEkC9fvmtu51OFbr58+QgMDOTIkSPJ1h85coSCBQu63Sc0NJTQ0NAU64ODg7P0IM7q5/MWapfUqW3c89R2sSw4fBi2bYPdu2HvXti3z9weOGCK2//+M9tdL4cD8uWDQoUufZUoASVLOjh7NpjTp4MpWDAYhyPjXpcv8NRjxm5ql9SpbdzLynZJ6/P4VKEbEhJCjRo1WLFiBa1atQIgMTGRFStW0LdvX3vDiYjfuHgRNm6E3383t1u3wl9/mbO1aREZCdmzQ3g4hIWZ2+BgSEw0Z30TEyE+Hs6fh5gY83XxoimSjx0zX3/8cfkjBgF5KVw4mFy5oEoVqFoVqlUzt1WqgJv3+yIiXs+nCl2AAQMG0KVLF2rWrEmtWrV4/fXXOXfuHN26dbM7moj4qAMH4Pvvzddvv8HmzaYQvVJAAJQuDWXKmDOtJUpA8eJQtChERUHevJAnD4SEpD+D0wknT5qzxocOma+DB2HPHtixI5HVqxOIizPF9o8/mq8kISFQowbUrXvpK5UPwUREvIrPFbqPPPIIx44dY+TIkRw+fJhq1arx7bffUqBAAbujiYiPOHUKli6F5cth1SrYsSPlNvnzw223wa23ws03Q6VKUK6cOUObGYKDzXPmzw+33JL8e05nAnfccYzly53s2RPMpk24vjZuhOPHYc0a8zVxotnn5pvhnnvg3nvhrrtMf2AREW/jc4UuQN++fdVVQUQyjGWZ7gdffQVffw0//2y6ECQJCDAFbf365mzobbeZs7Se1hc2PNwUwbfcAp06mXWWBf/8A6tXm6+ffzZnpLdsMV+vv27O+N51F7RqBQ88YF6biIg38MlCV0QkI2zZAvPmma9t25J/76aboFkzuPtuqFcPcua0J+ONcjhMV4oyZS4VvydOwMqV5qz1smXmgrnly81X376mkG/VCtq1M10xREQ8lQpdEZHL/PsvzJwJn3xiCt0kISGmqG3RwnyVKmVfxsyWNy+0aWO+LMt0zfjiC1i0yJz1XbvWfA0fDnXqwKOPQtu2ZsQHERFPokJXRPzexYumiIuONmcwk4b4Cg6GJk1MEdeypfeetb0RDgeULw/PPmu+Dh+GL780Z7lXrrzUt7dfP2jeHJ54Apo2NWP9iojYTYWuiPitXbtg6lRT4J48eWl9/frQpQs8+CDkymVbPI9UsCD06GG+Dh2COXNg1ixYv96c9f3iCyhWDB5/HLp3hyJF7E4sIv4swO4AIiJZKTERvv3WdD8oVw4mTTJFbrFi8PzzsHOnGUmhWzcVuddSqBA88wysW2e6eTzzjBke7d9/YdQoM3xa27bwyy92JxURf6VCV0T8QlycOXNbqZK5iGzxYtNFoVkzM5LC7t3wwgvmoixJv0qVzJuGAwfMGd677jIjU8yfb/rx1q0LCxa4H19YRCSzqNAVEZ927pwZIqtMGXjsMdi+3cw81r8//P23KXibN1ef0owSFgYdO5rJMzZtMmfGQ0JMP942baBCBfjgA/PGQ0Qks6nQFRGfdOqUOUNbooT5SH3/fvNR+/jx5qP1yZNN1wXJPLfcAh9+aIYne/55M5rDP/+Y/rvly8O0aRAba3dKEfFlKnRFxKecOwevvGKG/xo1yowJW6aMKar++ceMHBAZaXdK/1KwoHnTsXev6d5QsKBZ7tULypaFt94yI1+IiGQ0Fboi4hPi4mDx4lJUrBjEsGHmjO7NN5tRAbZvN8NeZdb0u5I22bKZs+v//ANvvgmFC5sz7X37QsWKMHu2uVhQRCSjqNAVEa+WmAgffQSVKwfx7ru3cOSIg1KlzLpNm+CRR9T/1tOEh8NTT10a3q1IEXOG99FHoWZNWLHC7oQi4itU6IqI11qzBmrXhs6dYc8eB7lzX2TKlAS2bTNFkwpczxYWBr17m4sCX34ZcuSADRugcWMzGsYff9idUES8nQpdEfE6Bw6YQrZuXfj9d1MgvfRSAu+8s5yePRMJCbE7oaRHRAQMG2bO8D79NAQFmbGOq1WDJ5+E//6zO6GIeCsVuiLiNS5ehLFjzRX7s2eb6Wkfewx27IDBgxMJDU2wO6LcgKgoeOMN2LrVDEVmWfD222ZIsg8/VP9dEUk/Fboi4hVWrIDKlWHECDh/3pzN/e03MyZrgQJ2p5OMVLYszJsHK1eaiSiOHzfTCderZ7o2iIiklQpdEfFoJ05A166m3+auXeZK/dmz4aefzIVL4rsaNoSNG2HCBMie3fTJrlnTdG84e9budCLiDVToiohHsixT0FasCDNmmG4KffqYj7U7dDD3xfcFB8PAgbBtG7RrZ7ovTJlizu4vX253OhHxdCp0RcTj7N1rrrp/9FHzsfXNN8PPP8P//qfJHvxVkSLwySewbBmULGmOkXvuMbOsnTpldzoR8VQqdEXEY1gWTJ8OVarAkiUQGgovvQTr10OdOnanE0/QuDH8+acZhxdMH+2bb4Yvv7Q3l4h4JhW6IuIRjh6Fhx6Cbt3gzBlT2G7aBMOHo+HCJJns2c3Maj/8AOXKwcGD0LKl6csdE2N3OhHxJCp0RcR2n39u+lwuWmT6ZI4bBz/+aIaVEknNnXeaN0ODBkFAgOnLXa2auWhNRARU6IqIjc6eNWdwW7WCY8dMl4W1a2HoUM1qJmkTHg6vvQbffw8lSsDu3aYAHj0a4uPtTicidlOhKyK22LQJatQwfXIdDhgyxBS5VavanUy8Ub165pjq2BESEmDMGLjrLvjnH7uTiYidVOiKSJayLHjnHahdG/7+21xN//338Mor5uIzkeuVMyfMmmWGpYuMNF0YqlY1k0+IiH9SoSsiWeb0aXjkEejdG2JjoUULMyHAnXfanUx8SYcO8Mcf5rg6e9Ycc08/DXFxdicTkaymQldEssTvv0P16jB/PgQFwcSJZkiofPnsTia+qEQJM4Xw0KHm/pQppivDvn325hKRrKVCV0QyXXS06UO5e7cZ7P/nn2HAAM1uJpkrKMiM4PHll5A7N/z6q3mz9c03dicTkayiQldEMk1cnJm297HHTFeFli1hwwaoVcvuZOJP7rvPTDpSsyb89x80bw4jR5rphEXEt6nQFZFMcfgw3H03TJ1qzty+8AJ89hnkymV3MvFHJUvCTz/Bk0+a+y++CG3aBHLhQpCtuUQkc+k3XEQy3C+/QOvWZsaqyEhzFfx999mdSvxdaCi89Rbcfjv06AFffhnApk13Uq0aVKxodzoRyQw6oysiGWrGDHPRz8GDUKmSGRtXRa54kk6dzPTBhQpZ7NsXSd26QaxYYXcqEckMKnRFJEMkJsLw4dC1Kzid8NBD5sxu+fJ2JxNJqVYtWLMmnnLlTnLypIMmTeDNN804zyLiO1ToisgNu3DBjFX68svm/ogRZhixHDnszSVyNYULw9ixP9GxYyIJCdCvnxnjWVMHi/gOFboickMOH4YGDWDBAggONl0XXnwRAvTXRbxASEgiH36YwIQJ5qLJadPggQfMRBMi4v30r0hErtvmzWYq399+gzx5YPly6NzZ7lQi6eNwwMCB8OmnEB4OixdD/fpw6JDdyUTkRqnQFZHr8t13cMcdZqap8uVNf9y77rI7lcj1a9XKHNdRUWbc3dtvhy1b7E4lIjdCha6IpNv8+dC0KcTEmDNfa9ZAuXJ2pxK5cbVrm+O5fHnzJu6OO0zxKyLeSYWuiKTL//5nLjyLi4OHH4ZvvzXdFkR8RZkysHq1mbb69Glo0sS8uRMR76NCV0TSxLLMaApPPWWWe/eGOXMgLMzuZCIZL29eWLYM2rY1w+U98gi8+67dqUQkvVToisg1xcebmaTGjjX3X3jBzDAVGGhvLpHMFBYGH38MvXqZN3c9e8K4cRprV8SbqNAVkauKjYU2beCDD8yQYdOmwfPPmyvVRXxdYCBMnWomQwF47jkYNEjFroi3UKErIqk6f96MKbpoEYSGmrFyn3jC7lQiWcvhgJdegkmTzP2JE6F7d00sIeINVOiKiFtnzkCLFrBkCUREwFdfwYMP2p1KxD7PPAPR0eaTjejoSxdliojnUqErIimcOgX33gurVplpfJcsgcaN7U4lYr+uXWHhQggJMRNMPPyw6d4jIp5Jha6IJHP8ONx9t5kAInduWLHCDLMkIkarVvDFF+ZitS+/hIcegosX7U4lIu6o0BURlyNHoEED2LAB8uc3Z3Rvu83uVCKep0kT050nacrgBx6ACxfsTiUiV1KhKyIAHD1qzuRu2QKFC8P338Mtt9idSsRzNWoE33wD2bLB0qVw331w7pzdqUTkcip0RYRjx8w/7b/+gqJF4YcfoGJFu1OJeL769c3sgNmzw8qV0Lw5nD1rdyoRSaJCV8TPHT9uLjTbvNmcyV250kyBKiJpU6+emUUtMtK8SbzvPjM0n4jYT4WuiB/77z+45x744w8oWNAUueXK2Z1KxPvcfvulYvf7781QfLpATcR+KnRF/NTJk6bI3bgRChSA776DChXsTiXivWrVMhemJfXZbdNG4+yK2E2FrogfiokxV42vXw9RUeZMrvrkity4O+4wQ46FhZlRGTp00AxqInZSoSviZy5cgJYtYe1ayJfPFLmVKtmdSsR3NGxops0OCTGTS3TpAgkJdqcS8U8qdEX8iNNpPk79/nvTl3DJEqhc2e5UIr6nSROYPx+CguDjj+GJJyAx0e5UIv5Hha6In0hIgM6d4euvzSD3X30Ft95qdyoR39WypSlyAwLgww9h0CCwLLtTifgXFboifsCyoE8fmDPHnGFauBDuvNPuVCK+r00biI42y5Mmwauv2ptHxN+o0BXxA889B9OmgcMBs2dDs2Z2JxLxH507w8SJZnnYMHj/fXvziPgTFboiPu611+CVV8zyu+9C27b25hHxRwMGwNChZrlnT/j0U3vziPgLFboiPuyjj2DIELM8fjw8/ri9eUT82csvm9/BxERo396MXS0imUuFroiPWrYMHnvMLD/7rPkSEfs4HPD22/DQQ2YiiZYtYd06u1OJ+DYVuiI+aMMG8880Pt4MWK8LYEQ8Q1CQ6SffsCGcPQvNm8Pu3XanEvFdKnRFfMzu3eZis7NnoVEjc8V3gH7TRTxGWJiZUKJaNTh61Py+/vef3alEfJP+/Yn4kOPHoWlTOHIEqlY1F7yEhNidSkSuFBlpxrQuVgy2b4cHHoCLF+1OJeJ7VOiK+Ijz5+H+++Hvv6F4cVi82PwzFRHPVLjwpd/Tn36Crl01e5pIRlOhK+IDEhPNWJ2//AK5c8O335p/oiLi2SpXhs8+g+BgmDvXjLMrIhnHZwrdPXv20L17d0qVKkV4eDhlypRh1KhRxMXF2R1NJNMNH25mOwsJgc8/h5tusjuRiKTV3XfDBx+Y5ddeg6lT7c0j4kuC7A6QUbZt20ZiYiLTpk2jbNmybN68mR49enDu3DkmTJhgdzyRTBMdfWlCiA8+0NS+It6oUyfYswdGjoSnnoISJaBFC7tTiXg/nyl0mzZtStOmTV33S5cuzfbt23n77bdV6IrP+u47eOIJs/z88/Doo/bmEZHrN2KEKXY//BDatYM1a0zXBhG5fj5T6Lpz+vRp8uTJc9VtYmNjiY2Ndd2PiYkBwOl04nQ6MzVf0vNcfiuG2iV1SW2yZUs8rVsHER/voG3bREaMSMCfm0vHTOrUNu55Yru8+Sbs2hXI998HcP/9Fj//HE9UVNZm8MR28RRqG/fsaJe0PpfDsiwrk7PYYufOndSoUYMJEybQo0ePVLcbPXo0Y8aMSbH+448/JiIiIjMjily3mJhgBg++i8OHs1Ohwn+8+OLPhITocm1J3dixYxk+fLjdMSQNLv/9vummE7zwwmqCg/X7LXK58+fP06FDB06fPk3kVYYY8vhCd+jQobx6jWmdtm7dSsWKFV33Dxw4QP369WnQoAHvv//+Vfd1d0a3WLFiHD9+/KoNl1GcTifLli3jnnvuITg4ONOfz1uoXVJ37pyTevXOs2VLPkqWtPjxx3gKFLA7lf10zKTO6XTSoEEDVq1apba5jCcfM1u3wp13BhET46Bz50Teey8BhyNrntuT28Vuahv37GiXmJgY8uXLd81C1+O7LgwcOJCuXbtedZvSpUu7lg8ePEjDhg2pW7cu77777jUfPzQ0lNDQ0BTrg4ODs/Qgzurn8xZql5SGDAlgy5YIIiMtvvrKQdGiap/L6ZhJndrGPU9sl1tugXnzzBTBM2cGUKVKAM8+m7UZPLFdPIXaxr2sbJe0Po/HF7pRUVFEpbGD0oEDB2jYsCE1atQgOjqaAM17Kj7mnXfg3XcDcTgsZs5M4OabPf5XWESuU5Mm8Prr8PTTMHgwVKhgJoURkbTzmUrwwIEDNGjQgOLFizNhwgSOHTvG4cOHOXz4sN3RRDLEDz+YYYcAHn10K82be3SvIxHJAH37Qq9eYFnQoQNs2WJ3IhHv4jOng5YtW8bOnTvZuXMnRYsWTfY9D++GLHJNe/fCww9DfDy0aZPIQw/tAMrZHUtEMpnDYUZi2L7dDCf44IPw22+QK5fdyUS8g8+c0e3atSuWZbn9EvFm589Dq1Zw7BhUr06WXpQiIvZLmh64eHHYsQM6doSEBLtTiXgHnyl0RXyRZcFjj8HGjRAVBYsWgUa9E/E/UVHw2WcQFgaLF8Po0XYnEvEOKnRFPNhrr5kzOUFBsHChOaMjIv7p1lvhvffM8ksvwaef2ptHxBuo0BXxUCtWwHPPmeUpU+DOO+3NIyL2e/RR6N/fLHfpAn/9ZWscEY+nQlfEA+3fD+3bQ2IidO0KPXvanUhEPMVrr0GDBnD2rOm/f+qUzYFEPJgKXREPExcHbdqYi8+qVoWpU9HFZyLiEhxsJpMoVsxcnNapk3lTLCIpqdAV8TADB8Ivv0DOnKZfbni43YlExNMkXZwWGgpffWXO8opISip0RTzIxx/D//5nlmfNgjJl7M0jIp6rRg3Tfx9g+HBYtcrWOCIeSYWuiIfYvBl69DDLw4fDfffZm0dEPN/jj0PnzqbrQrt2cOiQ3YlEPIsKXREPEBMDrVubySEaN4YxY+xOJCLewOEw/fgrV4YjR0yxGx9vdyoRz6FCV8RmlgXdusHff0PRoqb7QmCg3alExFtkywYLFkCOHPDDDzBihN2JRDyHCl0Rm73xhhn4PTjY/LOKirI7kYh4mwoV4IMPzPKrr8IXX9ibR8RTqNAVsdHvv8PgwWZ50iSoXdvePCLivdq0gX79zHLnzrB7t715RDyBCl0Rm8TEwCOPgNMJDz4IffrYnUhEvN1rr8Htt8Pp06a/rtNpdyIRe6nQFbGBZZnZzv75B0qUMB85alIIEblRISEwZw7kygW//ab+uiIqdEVs8MEH5p9RYCB88gnkzm13IhHxFUlvnsGc4V261N48InZSoSuSxbZsgaefNstjx0KdOvbmERHf89BD0Lu3We7UCQ4ftjePiF1U6IpkofPnoW1buHABmjSBQYPsTiQivmriRKhSBY4evTSphIi/UaErkoX69YO//oKCBWHmTAjQb6CIZJLwcNNFKjwcli2D8ePtTiSS9fRvViSLzJkD779vLjqbNQvy57c7kYj4ukqV4M03zfKIEfDLL/bmEclqKnRFssDu3fDEE2Z5+HBo1MjePCLiP7p3N0MZxsdD+/Zw6pTdiUSyjgpdkUwWHw+PPgpnzkC9ejBqlN2JRMSfOBwwbRqUKgV79pihDS3L7lQiWUOFrkgme+UVWL0aIiPho48gKMjuRCLib3LmNN2ngoJg3jyYMcPuRCJZQ4WuSCb67TcYPdosv/UWlCxpZxoR8We1asELL5jlp5/WFMHiH1ToimSSs2dNl4WEBDMVZ8eOdicSEX83eLDpQnXmjBlfNyHB7kQimUuFrkgmGTgQduyAokVh6lRN8Ssi9gsMNEMb5sgBP/9sZk4T8WUqdEUywRdfwLvvmuJ25kxN8SsinqNUqUtDjo0cCevX25tHJDOp0BXJYIcPm+F8wJzVbdjQ3jwiIlfq0sVME5w0KsyFC3YnEskcKnRFMpBlmSL3+HGoWhVeesnuRCIiKSUNOVawIGzdCkOG2J1IJHOo0BXJQG+/DYsXQ2gozJ5tbkVEPFG+fBAdbZanTIGlS+3NI5IZVOiKZJC//4ZnnzXLr70GN99sbx4RkWtp2hT69DHLXbvCiRO2xhHJcCp0RTJAQgJ062b6uTVuDH372p1IRCRtXnsNKlaEQ4egVy/Nmia+RYWuSAaYPNnMfpYjB3zwAQToN0tEvEREBMyaZWZNW7AA5s/XWIjiO/TvWOQGbd0KI0aY5cmToXhxe/OIiKRXjRowfLhZ7tcvkFOndIGB+AYVuiI3ID7eDNMTGwvNmsFjj9mdSETk+jz3nBkt5sQJB++8c4u6MIhPUKErcgPGj4e1ayFnTnjvPc1+JiLeKyQEpk+HoCCLX34pzLx5+oMm3k+Frsh1+vNPGDXKLL/5JhQpYm8eEZEbVa0aPPdcImC6MBw+bG8ekRulQlfkOjidpsuC0wktW0KnTnYnEhHJGEOGJFK69Cn++89B794ahUG8mwpdkeswbhxs2AB58pjZhdRlQUR8RXAwPP30BoKDLRYtgk8+sTuRyPVToSuSThs2wIsvmuW33jJTaIqI+JKSJWNcXRj69jVj7Ip4IxW6IungdJqJIeLjoXVreOQRuxOJiGSOwYMTufVWOHlSE0mI91KhK5IO48fDpk2QNy9MnaouCyLiu4KDzSgMwcHwxRcwe7bdiUTST4WuSBpt2wYvvGCWX38d8ue3NY6ISKarUuXS6DL9+sHRo/bmEUkvFboiaZCYCD16XJoYomNHuxOJiGSNwYPNsGP//Qf9+9udRiR9VOiKpME778BPP0G2bPD22+qyICL+IzgY3n8fAgLMCAxff213IpG0U6Ercg3//gtDhpjlceOgRAl784iIZLUaNWDAALPcuzecOWNvHpG0UqErchWWZf6onz0LdevCk0/anUhExB5jxkDp0ubN//DhdqcRSRsVuiJXMWeO+ZguJMR8dBcYaHciERF7RESYCXIA/vc/WLPG3jwiaaFCVyQVx4/D00+b5REj4Kab7M0jImK3xo2ha1fzadfjj5sLdEU8mQpdkVT072+K3cqVL/XRFRHxdxMmmOEV//oLXnnF7jQiV6dCV8SNb74xg6MHBMAHH5iuCyIiYibMefNNszx2rCl4RTyVCl2RK5w/f+mis379oFYte/OIiHiatm3hvvvMtOiPP27GGhfxRCp0Ra7w4ouwZw8UK3ZpJjQREbnE4TDToGfPbi5Ke+cduxOJuKdCV+Qymzeb/mdgrirOnt3ePCIinqpYMTO2OMCwYXD4sL15RNxRoSvy/xITzZi58fHwwAPQsqXdiUREPFvv3lCzJsTEwMCBdqcRSUmFrsj/i46+NM1v0oUWIiKSusBA020hIAA+/hiWL7c7kUhyKnRFgGPHYPBgszxmDBQvbm8eERFvUaPGpQt4n3wSLl60N4/I5VToigCDBsF//0HVqmakBRERSbuXXoKCBWHHDnjtNbvTiFyiQlf83qpVMGOGuYr4nXcgKMjuRCIi3iVnTnj9dbP88suwc6etcURcVOiKX4uNhV69zHLPnnD77fbmERHxVm3bwj33mL+rffqYaYJF7KZCV/za+PGwfbuZzjJpmBwREUk/hwPeegtCQ2HpUpg/3+5EIip0xY/t2mX6lQFMngy5ctkaR0TE65UrZ8bUBejf3ww7JmInFbrit/r3Nx+xNWoE7dvbnUZExDcMGWIK3kOH4Pnn7U4j/k6Frvilr74yX8HBZgY0h8PuRCIiviEszEwPDObv64YN9uYR/6ZCV/zOxYuXhhB75hmoWNHePCIivqZxY2jXzsw42bevLkwT+6jQFb8zYQL88w8ULgwjRtidRkTEN02YYGaaXL0aZs2yO434K58sdGNjY6lWrRoOh4ONGzfaHUc8yN69ZoxHMH+Ec+SwN4+IiK8qUuRSH93Bg3VhmtjDJwvdwYMHU7hwYbtjiAcaMAAuXID69c3HaiIiknn69zcXph0+DC+8YHca8Uc+V+h+8803LF26lAkTJtgdRTzM0qXw6acQGKgL0EREskJoKLzxhll+4w3YutXePOJ/fGqy0yNHjtCjRw8WLVpEREREmvaJjY0lNjbWdT/m/z9bcTqdOJ3OTMl5uaTnyIrn8iYZ3S5xcdC3bxDgoE+fBCpUSMRbm1zHjHtql9SpbdxTu7iX0e3SuDHcd18gX30VwFNPJbJ4cYLXnmjQMeOeHe2S1udyWJZvXAtpWRbNmzfnjjvuYMSIEezZs4dSpUqxYcMGqlWrlup+o0ePZsyYMSnWf/zxx2kulsXzffppWWbOvJmcOS8ydeoKsmWLtzuSSJYaO3Ysw4cPtzuG+KnDhyN46qm7cToDGTz4N+rWPWR3JPFy58+fp0OHDpw+fZrIyMhUt/P4Qnfo0KG8+uqrV91m69atLF26lHnz5vH9998TGBiY5kLX3RndYsWKcfz48as2XEZxOp0sW7aMe+65h+Dg4Ex/Pm+Rke2yfz9UqRLEuXMO3n8/ns6dPfqQvyYdM+6pXVLndDpp0KABq1atUttcRseMe5nVLqNHB/Dyy4EUL27xxx/xeOO5JB0z7tnRLjExMeTLl++aha7Hd10YOHAgXbt2veo2pUuXZuXKlaxZs4bQ0NBk36tZsyYdO3ZkxowZbvcNDQ1NsQ9AcHBwlh7EWf183iIj2uW55+DcOahbF7p1CyLAR3qm65hxT+2SOrWNe2oX9zK6XYYPN8OM7dvnYOLEYK++OE3HjHtZ2S5pfR6PL3SjoqKIioq65nZvvvkmL730kuv+wYMHadKkCXPnzqV27dqZGVE82I8/wpw55sKz//0PnylyRUS8TUQETJwIbdrAa69B165QurTdqcTXeXyhm1bFixdPdj979uwAlClThqJFi9oRSWyWkHBpBrQePaB6dXvziIj4u9atoVEjWLHCzEz5+ed2JxJfp/Nb4rNmzDBzrEdGwosv2p1GREQcDnjzTQgKgi++gGXL7E4kvs5nC92SJUtiWdZVL0QT3xUTY/rmAowcCfnz25tHRESMSpXgySfN8oABEK9BcCQT+WyhK/7t5ZfhyBEzI89TT9mdRkRELjdqFOTODZs3w/vv251GfJkKXfE5//wDkyeb5YkTISTE3jwiIpJcnjyQNIT988/DqVO2xhEfpkJXfM6gQWYmNDMbj91pRETEnV69oGJFOH4cLhs0SSRDqdAVn7JqFXz6qRlGbPJkvHaaSRERXxccDJMmmeU334QdO+zNI75Jha74jIQE6N/fLPfqBZUr2xpHRESuoVkzaNoUnE4YPNjuNOKLVOiKz/jwQ9i0CXLlutT3S0REPNvEiRAYCIsWwcqVdqcRX6NCV3zC6dNmekkwV/Pmy2dvHhERSZtKlaB3b7P8zDPm0zmRjKJCV3zCSy/BsWNQoQL06WN3GhERSY/Ro82ncX/8YT6dE8koKnTF6+3ebS5kAPMRWHCwvXlERCR98uY1n8aB+XTu9Gl784jvUKErXu+55y4NJ9a8ud1pRETkejz5JJQvbz6de/llu9OIr1ChK17tt99gzhwzjNj48RpOTETEW4WEmE/lAN54A/butTeP+AYVuuK1LAuefdYsd+4M1arZGkdERG5QixbQsCHExl66wFjkRqjQFa/1+efw448QFqZZdUREfEHSp3MAs2fD+vX25hHvp0JXvJLTCUOGmOUBA6BoUXvziIhIxqhRAzp0MMuDBplP70Sulwpd8Urvvgt//w1RUZcKXhER8Q1jx5o+uytXwjff2J1GvJkKXfE6MTGXZj4bPRoiI22NIyIiGaxkSXj6abM8eLAmkZDrp0JXvM6rr5rhZ8qXhx497E4jIiKZ4bnnIHdu2LIFpk+3O414KxW64lX+/RcmTTLLr72mySFERHxV7twwYoRZfv55OHfO3jzinVToild5/nm4eBHuvBNatrQ7jYiIZKY+fUw3hkOHYPJku9OIN1KhK15j40aYOdMsT5igySFERHxdaOilWdJefRWOHLE3j3gfFbriNYYMMcPMtGsHtWrZnUZERLLCI49AzZpw9uylC5FF0kqFrniFlSth6VLTJ3fsWLvTiIhIVgkIuDSJxLvvwvbt9uYR76JCVzyeZcHQoWa5Z08oXdrePCIikrUaNID77jPDjA0bZnca8SYqdMXjffoprF0L2bJdugJXRET8yyuvmGszPvsMfvvN7jTiLVToikeLj4fhw83ygAFQoIC9eURExB433wydO5tlndWVtFKhKx5t5kwH27dD3rzw7LN2pxERETuNHn1pauDly+1OI95Aha54rNjYAF58MRAwZ3U11a+IiH8rWRJ69zbLQ4eaazhErkaFrnisxYtLc+CAg+LFL/1hExER//bcc5A9O6xbBwsX2p1GPJ0KXfFIp07BwoXlADNuYliYvXlERMQz5M8PAwea5REjzLUcIqlRoSseafz4AM6eDeGmmyw6dbI7jYiIeJIBA8y1G9u3w4wZdqcRT6ZCVzzOwYPwv/+ZQ/PFFxMIDLQ5kIiIeJTIyEsj8oweDRcu2BpHPJgKXfE4L7wAFy44qFDhP+6/X1caiIhISr17Q7FisH8/TJ1qdxrxVCp0xaPs2AHvv2+WO3f+C4fD3jwiIuKZwsLMNRwA48bB6dP25hHPpEJXPMqoUWaKx6ZNE7n55hN2xxEREQ/WqRPcdBOcOAETJ9qdRjyRCl3xGJs3w5w5ZnnMmAR7w4iIiMcLCoKxY83ypElw5Ii9ecTzqNAVjzFqlBn8++GHoXp1u9OIiIg3aNUKatWCc+fglVfsTiOeRoWueIR16+DTT8HhuNTnSkRE5FocDnjpJbP89tvm4jSRJCp0xSOMHGluO3aESpXszSIiIt6lcWO4806IjYWXX7Y7jXgSFbpiu9WrYfFiCAw03RdERETS4/Kzuu+/D3v32ptHPIcKXbHd88+b227doGxZe7OIiIh3uusuc2bX6YQXX7Q7jXgKFbpiq5UrzVdIyKWCV0RE5HokFbjTp8POnbZGEQ+hQldsY1mXitsnnoDixe3NIyIi3u3226F5czMeuy5sFlChKzb69lvTPzcsDJ57zu40IiLiC154wdzOng1//WVvFrGfCl2xhWXBiBFmuW9fKFTI3jwiIuIbatSABx80/2dGj7Y7jdhNha7YYtEiWL8esmeHwYPtTiMiIr5kzBgzEsP8+bBpk91pxE4qdCXLJSZeGje3f3+IirI1joiI+JgqVaBtW7OsYSv9mwpdyXILFsDmzZAzJwwcaHcaERHxRaNHQ0AAfP45/P673WnELip0JUslJl66EnbgQMiVy9Y4IiLioypWhEcfNcsavtJ/qdCVLLVggbkKNlcuePppu9OIiIgvGznSzLr57bewZo3dacQOKnQlyyQmXhr25ZlnTNcFERGRzFKmDHTtapY1rq5/UqErWWbhQtiyRWdzRUQk6zz3nDmru2QJ/Pqr3Wkkq6W70O3SpQs//PBDZmQRH3Z539z+/dU3V0REskbp0tC5s1nWWV3/k+5C9/Tp0zRu3Jhy5crx8ssvc+DAgczIJT4m6WxuzpzQr5/daURExJ8MH27O6n7zDfz2m91pJCulu9BdtGgRBw4coHfv3sydO5eSJUvSrFkzFixYgNPpzIyM4uWu7Jurs7kiIpKVypS5NAJD0v8j8Q/X1Uc3KiqKAQMGsGnTJn799VfKli1Lp06dKFy4MM888ww7duzI6JzixT799NK4uTqbKyIidhg+3Iyr+/XXGlfXn9zQxWiHDh1i2bJlLFu2jMDAQJo3b86ff/5JpUqVmDx5ckZlFC+mvrkiIuIJypWDjh3Nss7q+o90F7pOp5OFCxdy3333UaJECebPn0///v05ePAgM2bMYPny5cybN48XdBQJyc/m9u9vdxoREfFnI0aYs7pffgnr19udRrJCUHp3KFSoEImJibRv357ffvuNatWqpdimYcOG5NKpO793ed/cfv10NldEROxVvjy0bw+zZ5v/T4sW2Z1IMlu6z+hOnjyZgwcP8tZbb7ktcgFy5crF7t27bzSbeLnPPoM//4TISJ3NFRERzzBiBDgc8PnnsHGj3Wkks6W70O3UqRNhYWGZkUV8yOVnc/v3h9y5bY0jIiICQMWK0K6dWVYvS9+nmdEkU3z5JfzxB+TIobO5IiLiWZ5/3pzV/ewz879KfJcKXclwlgVjx5rlvn11NldERDzLTTdB27ZmWWd1fZsKXclwy5fD2rUQHm4miBAREfE0zz9vbhcuhL/+sjeLZB4VupLhXnrJ3D7xBERF2ZtFRETEnZtvhoceMsvjxtmbRTKPCl3JUD/+CD/8ACEh8OyzdqcRERFJ3XPPmdtPPoF//rE3i2QOFbqSoZL65nbtCkWL2hpFRETkqmrUgKZNISEBXn3V7jSSGXyu0P3666+pXbs24eHh5M6dm1atWtkdyW/8/jssWQKBgTBkiN1pRERErm34cHMbHQ3799ubRTKeTxW6CxcupFOnTnTr1o1Nmzbx888/06FDB7tj+Y2XXza3HTpA6dL2ZhEREUmLevXgrrvA6YQJE+xOIxkt3VMAe6r4+Hj69evH+PHj6d69u2t9pUqVrrpfbGwssbGxrvsxMTEAOJ1OnE5n5oS9TNJzZMVzZabNm+Gzz4JxOCyefTaeG305vtIumUFt457aJXVqG/fULu75Y7sMGeLghx+CePddi0GD4smf3/12/tg2aWFHu6T1uXym0F2/fj0HDhwgICCA6tWrc/jwYapVq8b48eOpXLlyqvuNGzeOMWPGpFi/dOlSIiIiMjNyMsuWLcuy58oMkybdChSjTp2D7N79Oxk1A7S3t0tmUtu4p3ZJndrGPbWLe/7ULpYFZcvexc6duenXbzedOm296vb+1DbpkZXtcv78+TRt57Asy8rkLFlizpw5tG/fnuLFizNp0iRKlizJxIkTWbp0KX///Td58uRxu5+7M7rFihXj+PHjREZGZnpup9PJsmXLuOeeewgODs7058sMO3dC5cpBJCY6+PVXJ9Wr3/hj+kK7ZBa1jXtql9Q5nU4aNGjAqlWr1DaX0THjnr+2y+efO2jTJojISIudO+PJlSvlNv7aNtdiR7vExMSQL18+Tp8+fdV6zePP6A4dOpRXr3Ep5NatW0lMTARg+PDhtG7dGoDo6GiKFi3K/Pnz6dmzp9t9Q0NDCQ0NTbE+ODg4Sw/irH6+jDRxIiQmQvPmUKtWxr4Gb26XzKa2cU/tkjq1jXtqF/f8rV0eeggqV4bNmx1MmxbMiBGpb+tvbZNWWdkuaX0ejy90Bw4cSNeuXa+6TenSpTl06BCQvE9uaGgopUuXZt++fZkZ0a/t2wczZ5rlq/1REBER8WQBAWZc3Q4d4PXXoX9/yJ7d7lRyozy+0I2KiiIqDdNr1ahRg9DQULZv3069evUAcyp9z549lChRIrNj+q3x482Vqg0bQp06dqcRERG5fm3bwsiRpkveu+/CgAF2J5Ib5TPDi0VGRtKrVy9GjRrF0qVL2b59O7179wagTZs2NqfzTUeOwPvvm+WkcQhFRES8VWAgDB1qlidMgIsX7c0jN85nCl2A8ePH065dOzp16sRtt93G3r17WblyJblz57Y7mk+aNMn8Ebj9drj7brvTiIiI3LhOnaBYMTh0yEwiId7Npwrd4OBgJkyYwJEjR4iJiWHZsmXcfPPNdsfySSdPwtSpZnn4cHA47M0jIiKSEUJCYNAgszx+PMTH25tHboxPFbqSdd5+G86ehSpVoEULu9OIiIhknO7dIV8+2L0bFiywO43cCBW6km4XLsAbb5jlwYN1NldERHxLRAQ89ZRZfvVVM6GEeCcVupJuM2bA0aNQvDg88ojdaURERDJenz6m4N24ETQRmvdSoSvpkpBgrkQFGDgQNF62iIj4orx5oUcPs3yNeavEg6nQlXRZuBB27TJ/ALp3tzuNiIhI5hkwAIKCYOVK+P13u9PI9VChK2lmWZfe1fbtC9my2ZtHREQkMxUvDu3bm2Wd1fVOKnQlzVasgPXrITzcFLoiIiK+bvBgc7twIezYYW8WST8VupJmSe9mH3/cDLsiIiLi6ypXNsNoWhZMnqyyydvoJyZpsm4dLF9upkfU3N8iIuJPhgwxtx99FMDJk6H2hpF0UaErafLaa+a2XTsoWdLWKCIiIlmqXj2oUwdiYx189VVpu+NIOqjQlWvatevSzDBJfZVERET8hcNx6azuN9+UIibG3jySdip05ZomTIDERGjWDG65xe40IiIiWe/++6FiRYvz54N57z2VT95CPym5qiNHIDraLOtsroiI+KuAABg4MAGAN98MIDbW5kCSJip05arefBNiY6FWLahf3+40IiIi9mnf3iJv3gscOuRg1iy700haqNCVVJ05A1OnmuUhQ0wfJREREX8VEgL3378LgPHjTbc+8WwqdCVV774Lp05B+fLwwAN2pxEREbFfkyZ7yZXLYvt2+Pxzu9PItajQFbecTnj9dbM8aJAZP1dERMTfhYfH07OnOZU7frzNYeSaVOiKW/Pmwf79UKAAdOpkdxoRERHP0adPIiEhsGaN+RLPpUJXUrAsmDjRLPftC6GaBEZERMSlYEHo2NEsJ/2/FM+kQldSWLUKNmyA8HDo3dvuNCIiIp5nwABz+9ln8M8/9maR1KnQlRSS3p127Qp589oaRURExCNVrgxNmpiRF5KuaRHPo0JXktm6Fb7+2gwl9swzdqcRERHxXAMHmtsPP4STJ+3NIu6p0JVkJk82ty1bQrly9mYRERHxZI0bwy23wLlzMG2a3WnEHRW64nL0KMycaZaT3qWKiIiIew7Hpb66U6ZAXJy9eSQlFbriMnWqme73ttugXj2704iIiHi+9u2hUCE4eBDmzLE7jVxJha4AcOECvPWWWR44UNP9ioiIpEVICDz1lFmeONEM0SmeQ4WuADBrFhw/DiVKQOvWdqcRERHxHj17QkQE/PEHrFhhdxq5nApdITERJk0yy/36QVCQvXlERES8SZ488NhjZlkTSHgWFbrCN9/Atm0QGQndu9udRkRExPv072+6/X37LWzZYncaSaJCV1zvPp94whS7IiIikj5lysCDD5rlpE9JxX4qdP3chg3w3Xemu8LTT9udRkRExHslDc05axYcPmxvFjFU6Pq5pLO5bdtCsWL2ZhEREfFmdevC7beb8XSTRjISe6nQ9WP798PcuWZZE0SIiIjcuKT/p2+/DefP25tFVOj6tTffhPh4aNAAbr3V7jQiIiLe78EHoVQpOHECZsywO42o0PVT587Be++Z5aTpC0VEROTGBAaaERjAnFBKTLQ1jt9ToeunZs6EU6egbFlo0cLuNCIiIr6ja1fIkcMM3bl0qd1p/JsKXT+UmGjeZYKZtjBAR4GIiEiGiYy8NIHEG2/Ym8XfqcTxQ0uXmneZOXKYd50iIiKSsZ566tIEEtu22Z3Gf6nQ9UNJ7y67d9cEESIiIpmhTBm4/36zPGWKvVn8mQpdP7Ntm3l36XCYd5siIiKSOfr1M7czZpjrYiTrqdD1M0nvKu+/H0qXtjeLiIiIL2vYECpXNiMdffCB3Wn8kwpdP3Lq1KUx/ZLeZYqIiEjmcDgu/b+dMsWMXS9ZS4WuH/ngA/OusnJl8y5TREREMlfHjpA3L+zdC198YXca/6NC10/Ex1/qttCvn3mXKSIiIpkrPBx69jTLGmos66nQ9RNffGHeTebNa95dioiISNZ48kkICoIffoCNG+1O419U6PqJpHeRPXuad5ciIiKSNYoUgYcfNss6q5u1VOj6gY0bzbvIoCDzrlJERESyVtJFaR9/DEeO2JvFn6jQ9QNJ7x4ffti8qxQREZGsdfvtULs2xMXBtGl2p/EfKnR93NGj5t0jaEgxEREROyX9H377bVPwSuZToevjpk0zv0y1apl3kyIiImKPhx+GwoXh8GGYN8/uNP5Bha4Pi4uDqVPNss7mioiI2Cs4+NK1Mm+8AZZlbx5/oELXh82bZ941Fi586WpPERERsc8TT0BoKPz+O6xebXca36dC14f973/mtndvCAmxN4uIiIhAVNSl8eyT/k9L5lGh66PWroVffzUF7hNP2J1GREREkvTta24XLIBDh+zN4utU6Pqot94yt23bQv789mYRERGRS6pXh7p1IT4e3nvP7jS+TYWuDzp+HObMMctJ7xpFRETEcyT9f37nHXA67c3iy1To+qAPPoDYWKhRwwwrJiIiIp6ldWsoUMB0XVi0yO40vkuFro9JSDADUYN5t+hw2JtHREREUrr8GhpdlJZ5VOj6mK+/hr17IW9eeOQRu9OIiIhIanr2hMBA+OEH+PNPu9P4JhW6PibpXWH37hAebm8WERERSV2RIvDQQ2Y56SJyyVgqdH3I9u2wbJnprtC7t91pRERE5Fr69DG3H30Ep07ZGsUnqdD1IUnT/d53H5QsaWsUERERSYO77oLKleH8eZg+3e40vkeFro84c+bSL4iGFBMREfEODsel/9tTp0Jior15fI0KXR8xaxbExED58tC4sd1pREREJK06doTISNixw3RBlIyjQtcHWNalTuxPPgkB+qmKiIh4jezZoVs3s6yhxjKWT5VEf//9Nw888AD58uUjMjKSevXq8d1339kdK9N9/z1s2QLZskGXLnanERERkfR68klz+/XXsHu3vVl8iU8Vuvfddx/x8fGsXLmSdevWUbVqVe677z4OHz5sd7RMlfTur1MnyJXL1igiIiJyHcqXh3vvNZ/SJk38JDfOZwrd48ePs2PHDoYOHcott9xCuXLleOWVVzh//jybN2+2O16m2b//0tSBSUOUiIiIiPdJuijtgw/gwgV7s/iKILsDZJS8efNSoUIFZs6cya233kpoaCjTpk0jf/781KhRI9X9YmNjiY2Ndd2PiYkBwOl04nQ6Mz130nNc73NNnRpAQkIgd92VSIUKCWRB5Cxxo+3iy9Q27qldUqe2cU/t4p7aJXWZ3Tb33AMlSgSxd6+D2bPj6dLFypTnyWh2HDNpfS6HZVne0YppsH//flq1asX69esJCAggf/78fP3111SvXj3VfUaPHs2YMWNSrP/444+JiIjIzLg3zOkM4PHH7+H06TAGDVrLHXcctDuSiHiosWPHMnz4cLtjiMg1fPppWWbOvJnSpU8xceL3OBx2J/JM58+fp0OHDpw+fZrIyMhUt/P4Qnfo0KG8+uqrV91m69atVKhQgVatWuF0Ohk+fDjh4eG8//77fPHFF6xdu5ZChQq53dfdGd1ixYpx/PjxqzZcRnE6nSxbtox77rmH4ODgdO37yScOunQJonBhix074knn7h7tRtrF16lt3FO7pM7pdNKgQQNWrVqltrmMjhn31C6py4q2OXECSpUK4uJFBz/8EM/tt3t0mQbYc8zExMSQL1++axa6Ht91YeDAgXTt2vWq25QuXZqVK1fy1VdfcfLkSdcLnjp1KsuWLWPGjBkMHTrU7b6hoaGEhoamWB8cHJylv+DX83zvvWdue/Z0EBHhm3+Msvrn4E3UNu6pXVKntnFP7eKe2iV1mdk2BQtCu3ZmEqj33w/izjsz5WkyRVYeM2l9Ho8vdKOiooiKirrmdufPnwcg4IpBZAMCAkj0wWlGNm+Gn36CwEB4/HG704iIiEhG6dXLFLpz58KkSZA3r92JvJfPjLpQp04dcufOTZcuXdi0aRN///03gwYNYvfu3bRo0cLueBnunXfM7QMPQOHC9mYRERGRjFOrFlSvDrGxMGOG3Wm8m88Uuvny5ePbb7/l7Nmz3H333dSsWZOffvqJzz//nKpVq9odL0OdPQszZ5rl3r3tzSIiIiIZy+EwZ3XBnNjy7KupPJvHd11Ij5o1a7JkyRK7Y2S6OXPgzBkoWxbuvtvuNCIiIpLROnSAZ5+FHTtg5Upo1MjuRN7JZ87o+ovLZ0zp2RMC9BMUERHxOdmzmxlP4VJ3RUk/lUle5vffYf16CA2FawxGISIiIl6sZ09zu2gRHDpkaxSvpULXyyS9q2vTBvLlszeLiIiIZJ5bboG6dSE+3kwLLOmnQteLnDoFn3xilpM6qYuIiIjvSvp//+67kJBgbxZvpELXi8ycCRcuQOXK5h2eiIiI+LY2bSBPHvj3X/jmG7vTeB8Vul7Csi51W+jdG819LSIi4gfCwqBbN7Osi9LST4Wul/jxR9i6FbJlg0cftTuNiIiIZJWki9IWL4Y9e2yN4nVU6HqJpCHFOnSAyEh7s4iIiEjWKVcOGjc2n+6+957dabyLCl0vcPQoLFxolnURmoiIiP9J+v//wQcQF2dvFm+iQtcLREeD02nmvr71VrvTiIiISFZr2RIKFYIjR8y4upI2KnQ9XGIiTJtmlnU2V0RExD8FB8Pjj5tlXZSWdip0PdzSpbB7N+TKBY88YncaERERscvjj0NAAHz3HWzbZnca76BC18MlvWvr0gUiIuzNIiIiIvYpXhxatDDLSZ/2ytWp0PVg+/fDl1+a5aShRURERMR/9e5tbqdPh/PnbY3iFVToerD33zd9dO+6C266ye40IiIiYrd774WSJeHUKViwwO40nk+FrodKSIAPPzTLOpsrIiIiAIGBly5K05i616ZC10MtWWLmtc6TBx56yO40IiIi4im6dTMF708/mVlTJXUqdD1U0ru0zp3NPNciIiIiAIULX7oo7f337c3i6VToeqBDhy5dhNajh71ZRERExPMk1QczZkBsrL1ZPJkKXQ80fbrpo1u3LlSqZHcaERER8TRNm0KRInDiBHz2md1pPJcKXQ+TmHip24LO5oqIiIg7QUHQvbtZ1kVpqVOh62FWrjQzoUVGQps2dqcRERERT/XYY+BwmNph1y6703gmFboeJuldWceOkC2bvVlERETEc5UoAU2amGVdlOaeCl0PcuzYpX42TzxhbxYRERHxfEndHKOjwem0N4snUqHrQWbONAdpzZpQrZrdaURERMTT3X8/FCgAR45cGrFJLlGh6yEsSxehiYiISPoEB5sJJEAXpbmjQtdD/Pyzg+3bTb/c9u3tTiMiIiLeImlK4CVLYO9ee7N4GhW6HuL9982Pol07yJHD5jAiIiLiNcqUgbvvNp8Of/ih3Wk8iwpdD3D2bDCffuoA1G1BRERE0i+pfvjgA4iPtzeLJ1Gh6wFWrSrKxYsOqlSBWrXsTiMiIiLe5sEHIW9eOHAAvv3W7jSeQ4WuzSwLli0rAZghxRwOmwOJiIiI1wkNhc6dzbIuSrtEha7N1q51sHdvTsLCLDp2tDuNiIiIeKuk7gtffw0HD9qbxVOo0LXZBx+YH0Hr1ha5c9scRkRERLzWTTdBvXqQkGAmkBAVuraKiYF580xfhe7dE21OIyIiIt4u6azu++9DokoLFbp2+uQTOHfOQdGiZ7jjDsvuOCIiIuLlHn4YcuaEPXtgxQq709hPha6N6teHvn0TuP/+XboITURERG5YRASua37UfUGFrq0qVoRJkxJp0kTTmIiIiEjGeOwxc/vpp3DypL1Z7KZCV0RERMSH3Hor3HILxMbCxx/bncZeKnRFREREfIjDcemsrr9PCaxCV0RERMTHdOwIwcGwfj1s3Gh3Gvuo0BURERHxMfnyQatWZtmfL0pToSsiIiLig5K6L8yaZfrr+iMVuiIiIiI+6J57oEgR+O8/+Pxzu9PYQ4WuiIiIiA8KDISuXc2yv16UpkJXRERExEd162Zuly6Ff/+1N4sdVOiKiIiI+KgyZaBBA7AsmD7d7jRZT4WuiIiIiA9LuigtOhoSE+3NktVU6IqIiIj4sNatITISdu+G77+3O03WUqErIiIi4sMiIqB9e7PsbxelqdAVERER8XFJ3RcWLIBTp2yNkqVU6IqIiIj4uNtug5tvhosXYc4cu9NkHRW6IiIiIj7O4bh0Vtefui+o0BURERHxA48+CkFBsHYt/Pmn3WmyhgpdERERET+QPz+0bGmWo6PtzZJVVOiKiIiI+Imk7gsffQRxcfZmyQoqdEVERET8RJMmUKgQHD8OX39td5rMp0JXRERExE8EBZm+ugAzZtibJSuo0BURERHxI126mNuvv4Zjx+zNktlU6IqIiIj4kZtvhpo1IT4ePv7Y7jSZS4WuiIiIiJ/p2tXcTp9uZ4rMp0JXRERExM+0awfBwbBxI/zxh91pMo8KXRERERE/kzfvpTF1ffmiNBW6IiIiIn4o6aK0WbPA6bQ3S2ZRoSsiIiLih5o2NbOlHT0KS5bYnSZzqNAVERER8UPBwdCxo1n21YvSvKbQHTt2LHXr1iUiIoJcuXK53Wbfvn20aNGCiIgI8ufPz6BBg4iPj8/aoCIiIiJeImn0hS+/hBMnbI2SKbym0I2Li6NNmzb07t3b7fcTEhJo0aIFcXFxrF69mhkzZjB9+nRGjhyZxUlFREREvMMtt0C1ahAXB3Pm2J0m43lNoTtmzBieeeYZqlSp4vb7S5cu5a+//mLWrFlUq1aNZs2a8eKLL/LWW28RFxeXxWlFREREvEPSWV1fHH0hyO4AGWXNmjVUqVKFAgUKuNY1adKE3r17s2XLFqpXr+52v9jYWGJjY133Y2JiAHA6nTiz4BLEpOfIiufyJmqX1Klt3FO7pE5t457axT21S+p8tW3atIFnnw1i7VoHmzY5qVQpffvb0S5pfS6fKXQPHz6crMgFXPcPHz6c6n7jxo1jzJgxKdYvXbqUiIiIjA15FcuWLcuy5/ImapfUqW3cU7ukTm3jntrFPbVL6nyxbW69tRa//VaIMWP20KXLX9f1GFnZLufPn0/TdrYWukOHDuXVV1+96jZbt26lYsWKmZZh2LBhDBgwwHU/JiaGYsWKce+99xIZGZlpz5vE6XSybNky7rnnHoKDgzP9+byF2iV1ahv31C6pczqdjB07Vm1zBR0z7qldUufLbRMX56BtW/jll7LMnl2SoHRUiHa0S9In8Ndia6E7cOBAuiZ1DElF6dKl0/RYBQsW5Lfffku27siRI67vpSY0NJTQ0NAU64ODg7P0IM7q5/MWapfUqW3cU7ukTm3jntrFPbVL6nyxbR54wMyWduiQg++/D6Zp0/Q/Rla2S1qfx9ZCNyoqiqioqAx5rDp16jB27FiOHj1K/vz5AXMKPTIykkrp7WwiIiIi4kdCQqBDB5gyxYypez2FrifymlEX9u3bx8aNG9m3bx8JCQls3LiRjRs3cvbsWQDuvfdeKlWqRKdOndi0aRNLlixhxIgR9OnTx+0ZWxERERG5JOlD9kWL4NQpG4NkIK8pdEeOHEn16tUZNWoUZ8+epXr16lSvXp3ff/8dgMDAQL766isCAwOpU6cOjz76KJ07d+aFF16wObmIiIiI56teHSpXhthYmDvX7jQZw2sK3enTp2NZVoqvBg0auLYpUaIEixcv5vz58xw7dowJEyYQlJ7e1CIiIiJ+yuHwvTF1vabQFREREZHM1bEjBAbCmjWwY4fdaW6cCl0RERERAaBgQbjnHrM8a5a9WTKCCl0RERERcenUydzOmgWWZW+WG6VCV0RERERcWrWC7Nnhn39MFwZvpkJXRERERFwiIqB1a7P80Uf2ZrlRKnRFREREJJlHHzW3c+ea4ca8lQpdEREREUmmYUMoXBhOnoTFi+1Oc/1U6IqIiIhIMoGBZqgx8O7uCyp0RURERCSFpNEXvvoK/vvP3izXS4WuiIiIiKRQpQpUrQpOJ8yfb3ea66NCV0RERETcSroozVu7L6jQFRERERG3OnSAgAD4+Wczrq63UaErIiIiIm4VLgyNGpllb5wSWIWuiIiIiKQq6aK0jz7yvimBVeiKiIiISKoefNDMlrZzJ/z6q91p0keFroiIiIikKnt2eOghs+xt3RdU6IqIiIjIVSWNvjBnDsTF2ZslPVToioiIiMhVNWoEBQvCiRPw7bd2p0k7FboiIiIiclVBQWaoMfCuMXVV6IqIiIjINSWNvvDll3DqlK1R0kyFroiIiIhcU9WqULkyxMZ6z5TAKnRFRERE5JocDu+bEliFroiIiIikSceOpuD98UfYu9fuNNcWZHcAb2NZFvHx8SQkJGTI4zmdToKCgrh48WKGPaYvULukTm3j3o22S2BgIEFBQTgcjkxIJyLiG4oWhfr1YdUq+OQTGDrU7kRXp0I3HeLi4jh06BDnz5/PsMe0LIuCBQvy77//6h/sZdQuqVPbuJcR7RIREUGhQoUICQnJ4HQiIr6jY0dT6H78sQpdn5GYmMju3bsJDAykcOHChISEZEiRkZiYyNmzZ8mePTsBAepJkkTtkjq1jXs30i6WZREXF8exY8fYvXs35cqVU9uKiKSidWvo0wf+/NN8Vaxod6LUqdBNo7i4OBITEylWrBgREREZ9riJiYnExcURFhamf6yXUbukTm3j3o22S3h4OMHBwezdu9f1OCIiklLu3NC8OSxaBLNnw4sv2p0odfovmU4qLER8l36/RUTSpmNHc/vxx5CYaG+Wq9FfdRERERFJl/vug8hI+Pdf+Plnz71eRIWuiIiIiKRLWJjpqwvwyScqdEVERETEhyR1X1i4MACn0zOLXRW6fuKtt96iZMmShIWFUbt2bX777bdr7jN//nwqVqxIWFgYVapUYfHixel6zl69etGsWTPuuece3nrrreuNft3S+5q3bNlC69atKVmyJA6Hg9dffz1dz3f27FmaNm1Kw4YNuemmm5g+ffr1h79OWf2as9K+ffto0aIFERER5M+fn0GDBhEfH3/VfcaOHUvdunWJiIggV65cWRNURMRPNGgAhQrByZMO1q8vYHcct1To+oG5c+cyYMAARo0axfr166latSpNmjTh6NGjqe6zevVq2rdvT/fu3dmwYQOtWrWiVatWbN68Oc3P+/rrrxMfH8/mzZuZM2dOmvfr2rUrY8aMSfP27lzPaz5//jylS5fmlVdeoWDBgul+zoiICL766iu+++473nvvPd5+++0079u1a1dGjx6d7ue8nB2vOS327Nlzw0PxJSQk0KJFC+Li4li9ejUzZsxg+vTpjBw58qr7xcXF0aZNG3r37n1Dzy8iIikFBkK7dmb5hx+K2hsmNZYkc/r0aQuwTp8+nWz9hQsXrL/++su6cOGCa11iomWdPXtjXzExCdb+/SetmJiEdO2XmJj211SrVi2rT58+rvsJCQlW4cKFrXHjxqW6T9u2ba0WLVokW1e7dm2rZ8+elmVZ1tatW63w8HBr9uzZru/PnTvXCgsLs7Zs2ZJsv02bNlnTpk1Lc94uXbpYI0eOtE6ePGklJCSkeb/LXc9rvlyJEiWsyZMnJ1t39OhRq0CBAtbYsWNd637++WcrODjYWr58uWvdkSNHrIYNG1pr1qxJc94uXbpYo0aNStO2CQkJbtvGztd8Nbt377Zu9E/N4sWLrYCAAOvw4cOudW+//bYVGRlpxcbGWpaVertYlmVFR0dbOXPmvObzuPs99wVxcXHWbbfdZsXFxdkdxaPExcVZixYtUrtcQe2SOrVNSr//bllgWSEh8dbx41nXLqnVa1fSGd0bcP48ZM9+Y1+RkQEULZqLyMiAdO2X1snZ4uLiWLduHY0bN3atCwgIoHHjxqxZsybV/dasWZNsH4AmTZq49qlYsSITJkzgySefZN++fezfv59evXrx6quvUqlSJZxOp2sa1rCwMAYPHpzO1r1+1/uaryUqKooPP/yQ0aNH8/vvv3PmzBk6depE3759adSoEQC//PIL7du358033+T222+/4deSVna+5qywZs0aqlSpQoEClz4aa9KkCTExMWzZsiXLcoiISHK33grly1vExQWyaJHn9dPVhBE+7vjx4yQkJCQrEAAKFCjAtm3bUt3v8OHDbvc5fPiw6/6TTz7J4sWLefTRRwkJCeG2227jqaeecu3fpk0bQkJCOH78OC+99FIGvqqru97XnBbNmzenR48edOzYkZo1a5ItWzbGjRsHwNGjR7nzzjupUKECjz/+OLly5eLbb7+9oedLK7tec1ZJ7XhM+p6IiNjD4YAOHRKZM+cUefLktDtOCip0b0BEBJw9e2OPkZiYSExMDJGRkekarD4DJ2e7IR9++CHly5cnICCALVu2uPpiFitWjF9++SVNjzF79mx69uzpuh8bG4vD4WDixImudd988w133nlnin1//PFHmjVr5ro/bdo0GjZseL0vJ00mTJhA5cqVmT9/PuvWrSM0NBSA/Pnz43Q60/QYqb3mCRMmuNZd7TW3aNHCdd/O15yam2++mb179wJmel2A7Nmzu75/55138s0337jdt1mzZvz4448AlChRQmdsRUQ83NChiVSr9hPNmze3O0oKKnRvgMMB2bLd2GMkJkJCgnmczJiUKV++fAQGBnLkyJFk648cOXLVi48KFiyYpn02bdrEuXPnCAgI4NChQxQqVCjdGVu2bEnt2rVd94cMGULhwoXp1q0b2bNnJyAggCJFirjdt2bNmmzcuNF1v0CBAoSGhl7Xa06rXbt2cfDgQRITE9mzZw9VqlRJ92O4e81FihTh6aefdq272mv+4YcfXG3jia958eLFrqL/wIEDNGjQINnPKTw8PNV933//fS5cuABAcHAwYI7HK0eQSHqtmXURnYiIpI0nTyqpQtfHhYSEUKNGDVasWEGrVq0AcxZ5xYoV9O3bN9X96tSpw4oVK+jfv79r3bJly6hTp47r/n///UfXrl0ZPnw4hw4domPHjqxfv/6qRYw7OXLkIEeOHMnu58mTh9KlS1/zTHd4eDhly5ZNsf56XnNaxMXF8eijj/LII4+4uij8+eef5M+fP12Pk9prdvdarhQeHu62bTzpNZcoUcK1HBRk/syk5bWB+wK/Tp06jB07lqNHj7qed9myZURGRlKpUqX0vBwREfEjHlyDS0YZMGAA7733HjNmzGDr1q307t2bc+fO0a1bN9c2nTt3ZtiwYa77/fr149tvv2XixIls27bNdTHS5UVTr169KFasGCNGjGDSpEkkJCTw7LPPZulrS831vOa4uDg2btzIxo0biYuL48CBA2zcuJGdO3e6thk+fDinT5/mzTffZMiQIZQvX57HHnssS19banz5Nd97771UqlSJTp06sWnTJpYsWcKIESPo06ePqxvFb7/9Rq1atThw4IBrv3379rFx40b27dtHQkKC67WevdE+RyIi4h2yZhAI75Ge4cUywtWGRMpIU6ZMsYoXL26FhIRYtWrVsn755Zdk369fv77VpUuXZOvmzZtnlS9f3goJCbFuvvlm6+uvv3Z9b8aMGVa2bNmsv//+27Xu119/tYKDg63FixffUNaMGF7MstL/mpOGwbryq379+pZlWdZ3331nBQUFWT/++GOyfSIjI62pU6ded07LypjhxSzLM19zRgwvZlmWtWfPHqtZs2ZWeHi4lS9fPmvgwIGW0+l0fX/FihUWYO3atcu1rkuXLm5f33fffef2OTS8mH/RUFHuqV1Sp7Zxz452SevwYg7L+v8rRQSAmJgYcubMyenTp4mMjHStv3jxIrt376ZUqVKEhYVl2PNd78Vovk7tkjq1jXsZ0S6Z9XtuN6fTyR133MHPP//s6vcspl0WL15M8+bN1S6XUbukTm3jnh3tklq9diX9lxQRERERn6RCV0RERER8kgpdEREREfFJKnRFRERExCep0E0nXbsn4rv0+y0i4ltU6KZR0lWE58+ftzmJiGSWpN9vXU0tIuIbNDNaGgUGBpIrVy6OHj0KQEREBA6H44YfNzExkbi4OC5evKihoi6jdkmd2sa9G2kXy7I4f/48R48eJVeuXAQGBmZSShERyUoqdNOhYMGCAK5iNyNYlsWFCxcIDw/PkMLZV6hdUqe2cS8j2iVXrlyu33MREfF+KnTTweFwUKhQIfLnz4/T6cyQx3Q6nfzwww/cdddd+rj0MmqX1Klt3LvRdgkODtaZXBERH6NC9zoEBgZm2D/EwMBA4uPjCQsLU9FyGbVL6tQ27qldRETkSurgJyIiIiI+SYWuiIiIiPgkFboiIiIi4pPUR/cKSQPGx8TEZMnzOZ1Ozp8/T0xMjPoVXkbtkjq1jXtql9Q5nU4SEhLUNlfQMeOe2iV1ahv37GiXpDrtWhP9qNC9wpkzZwAoVqyYzUlERDJWvnz57I4gIpKhzpw5Q86cOVP9vsPSnJfJJCYmcvDgQXLkyJElY5TGxMRQrFgx/v33XyIjIzP9+byF2iV1ahv31C6pU9u4p3ZxT+2SOrWNe3a0i2VZnDlzhsKFC191kiCd0b1CQEAARYsWzfLnjYyM1C+NG2qX1Klt3FO7pE5t457axT21S+rUNu5ldbtc7UxuEl2MJiIiIiI+SYWuiIiIiPgkFbo2Cw0NZdSoUYSGhtodxaOoXVKntnFP7ZI6tY17ahf31C6pU9u458ntoovRRERERMQn6YyuiIiIiPgkFboiIiIi4pNU6IqIiIiIT1KhKyIiIiI+SYVuJhs7dix169YlIiKCXLlyud1m3759tGjRgoiICPLnz8+gQYOIj4+/6uP+999/dOzYkcjISHLlykX37t05e/ZsJryCrLFq1SocDofbr7Vr16a6X4MGDVJs36tXryxMnvlKliyZ4jW+8sorV93n4sWL9OnTh7x585I9e3Zat27NkSNHsihx1tizZw/du3enVKlShIeHU6ZMGUaNGkVcXNxV9/PFY+att96iZMmShIWFUbt2bX777berbj9//nwqVqxIWFgYVapUYfHixVmUNOuMGzeO2267jRw5cpA/f35atWrF9u3br7rP9OnTUxwbYWFhWZQ464wePTrF66xYseJV9/GHY8bd31qHw0GfPn3cbu/Lx8sPP/zA/fffT+HChXE4HCxatCjZ9y3LYuTIkRQqVIjw8HAaN27Mjh07rvm46f1blRFU6GayuLg42rRpQ+/evd1+PyEhgRYtWhAXF8fq1auZMWMG06dPZ+TIkVd93I4dO7JlyxaWLVvGV199xQ8//MATTzyRGS8hS9StW5dDhw4l+3r88ccpVaoUNWvWvOq+PXr0SLbfa6+9lkWps84LL7yQ7DU+9dRTV93+mWee4csvv2T+/Pl8//33HDx4kIceeiiL0maNbdu2kZiYyLRp09iyZQuTJ0/mnXfe4bnnnrvmvr50zMydO5cBAwYwatQo1q9fT9WqVWnSpAlHjx51u/3q1atp37493bt3Z8OGDbRq1YpWrVqxefPmLE6eub7//nv69OnDL7/8wrJly3A6ndx7772cO3fuqvtFRkYmOzb27t2bRYmz1s0335zsdf7000+pbusvx8zatWuTtcmyZcsAaNOmTar7+Orxcu7cOapWrcpbb73l9vuvvfYab775Ju+88w6//vor2bJlo0mTJly8eDHVx0zv36oMY0mWiI6OtnLmzJli/eLFi62AgADr8OHDrnVvv/22FRkZacXGxrp9rL/++ssCrLVr17rWffPNN5bD4bAOHDiQ4dntEBcXZ0VFRVkvvPDCVberX7++1a9fv6wJZZMSJUpYkydPTvP2p06dsoKDg6358+e71m3dutUCrDVr1mRCQs/x2muvWaVKlbrqNr52zNSqVcvq06eP635CQoJVuHBha9y4cW63b9u2rdWiRYtk62rXrm317NkzU3Pa7ejRoxZgff/996luk9rfaV8zatQoq2rVqmne3l+PmX79+lllypSxEhMT3X7fX44XwPrss89c9xMTE62CBQta48ePd607deqUFRoaan3yySepPk56/1ZlFJ3RtdmaNWuoUqUKBQoUcK1r0qQJMTExbNmyJdV9cuXKlexMZ+PGjQkICODXX3/N9MxZ4YsvvuDEiRN069btmtvOnj2bfPnyUblyZYYNG8b58+ezIGHWeuWVV8ibNy/Vq1dn/PjxV+3asm7dOpxOJ40bN3atq1ixIsWLF2fNmjVZEdc2p0+fJk+ePNfczleOmbi4ONatW5fsZx0QEEDjxo1T/VmvWbMm2fZg/ub4w7EBXPP4OHv2LCVKlKBYsWI88MADqf4d9nY7duygcOHClC5dmo4dO7Jv375Ut/XHYyYuLo5Zs2bx2GOP4XA4Ut3OX46Xy+3evZvDhw8nOyZy5sxJ7dq1Uz0mrudvVUYJytRHl2s6fPhwsiIXcN0/fPhwqvvkz58/2bqgoCDy5MmT6j7e5oMPPqBJkyYULVr0qtt16NCBEiVKULhwYf744w+GDBnC9u3b+fTTT7MoaeZ7+umnufXWW8mTJw+rV69m2LBhHDp0iEmTJrnd/vDhw4SEhKToE16gQAGfOT7c2blzJ1OmTGHChAlX3c6Xjpnjx4+TkJDg9m/Itm3b3O6T2t8cXz42EhMT6d+/P3fccQeVK1dOdbsKFSrw4Ycfcsstt3D69GkmTJhA3bp12bJlyzX/FnmT2rVrM336dCpUqMChQ4cYM2YMd955J5s3byZHjhwptvfHY2bRokWcOnWKrl27prqNvxwvV0r6uafnmLiev1UZRYXudRg6dCivvvrqVbfZunXrNTv3+4Praav9+/ezZMkS5s2bd83Hv7xfcpUqVShUqBCNGjVi165dlClT5vqDZ7L0tMuAAQNc62655RZCQkLo2bMn48aN88jpFm/U9RwzBw4coGnTprRp04YePXpcdV9vPWbk+vXp04fNmzdftR8qQJ06dahTp47rft26dbnpppuYNm0aL774YmbHzDLNmjVzLd9yyy3Url2bEiVKMG/ePLp3725jMs/xwQcf0KxZMwoXLpzqNv5yvHg7FbrXYeDAgVd9lwdQunTpND1WwYIFU1x1mHR1fMGCBVPd58rO2/Hx8fz333+p7mOX62mr6Oho8ubNS8uWLdP9fLVr1wbM2T1PLlpu5BiqXbs28fHx7NmzhwoVKqT4fsGCBYmLi+PUqVPJzuoeOXLE444Pd9LbNgcPHqRhw4bUrVuXd999N93P5y3HjDv58uUjMDAwxYgaV/tZFyxYMF3be7u+ffu6LthN71m24OBgqlevzs6dOzMpnWfIlSsX5cuXT/V1+tsxs3fvXpYvX57uT3n85XhJ+rkfOXKEQoUKudYfOXKEatWqud3nev5WZRQVutchKiqKqKioDHmsOnXqMHbsWI4ePerqjrBs2TIiIyOpVKlSqvucOnWKdevWUaNGDQBWrlxJYmKi65+2p0hvW1mWRXR0NJ07dyY4ODjdz7dx40aAZL98nuhGjqGNGzcSEBCQovtKkho1ahAcHMyKFSto3bo1ANu3b2ffvn3Jzj54qvS0zYEDB2jYsCE1atQgOjqagID0X3bgLceMOyEhIdSoUYMVK1bQqlUrwHxMv2LFCvr27et2nzp16rBixQr69+/vWrds2TKvODbSw7IsnnrqKT777DNWrVpFqVKl0v0YCQkJ/PnnnzRv3jwTEnqOs2fPsmvXLjp16uT2+/5yzCSJjo4mf/78tGjRIl37+cvxUqpUKQoWLMiKFStchW1MTAy//vprqiNMXc/fqgyTqZe6ibV3715rw4YN1pgxY6zs2bNbGzZssDZs2GCdOXPGsizLio+PtypXrmzde++91saNG61vv/3WioqKsoYNG+Z6jF9//dWqUKGCtX//fte6pk2bWtWrV7d+/fVX66effrLKlStntW/fPstfX0Zbvny5BVhbt25N8b39+/dbFSpUsH799VfLsixr586d1gsvvGD9/vvv1u7du63PP//cKl26tHXXXXdldexMs3r1amvy5MnWxo0brV27dlmzZs2yoqKirM6dO7u2ubJdLMuyevXqZRUvXtxauXKl9fvvv1t16tSx6tSpY8dLyDT79++3ypYtazVq1Mjav3+/dejQIdfX5dv4+jEzZ84cKzQ01Jo+fbr1119/WU888YSVK1cu10gunTp1soYOHera/ueff7aCgoKsCRMmWFu3brVGjRplBQcHW3/++addLyFT9O7d28qZM6e1atWqZMfG+fPnXdtc2TZjxoyxlixZYu3atctat26d1a5dOyssLMzasmWLHS8h0wwcONBatWqVtXv3buvnn3+2GjdubOXLl886evSoZVn+e8xYlhkJoHjx4taQIUNSfM+fjpczZ8646hXAmjRpkrVhwwZr7969lmVZ1iuvvGLlypXL+vzzz60//vjDeuCBB6xSpUpZFy5ccD3G3XffbU2ZMsV1/1p/qzKLCt1M1qVLFwtI8fXdd9+5ttmzZ4/VrFkzKzw83MqXL581cOBAy+l0ur7/3XffWYC1e/du17oTJ05Y7du3t7Jnz25FRkZa3bp1cxXP3qx9+/ZW3bp13X5v9+7dydpu37591l133WXlyZPHCg0NtcqWLWsNGjTIOn36dBYmzlzr1q2zateubeXMmdMKCwuzbrrpJuvll1+2Ll686NrmynaxLMu6cOGC9eSTT1q5c+e2IiIirAcffDBZAegLoqOj3f5uXf7+3V+OmSlTpljFixe3QkJCrFq1alm//PKL63v169e3unTpkmz7efPmWeXLl7dCQkKsm2++2fr666+zOHHmS+3YiI6Odm1zZdv079/f1Y4FChSwmjdvbq1fvz7rw2eyRx55xCpUqJAVEhJiFSlSxHrkkUesnTt3ur7vr8eMZVnWkiVLLMDavn17iu/50/GSVHdc+ZX0+hMTE63nn3/eKlCggBUaGmo1atQoRZuVKFHCGjVqVLJ1V/tblVkclmVZmXvOWEREREQk62kcXRERERHxSSp0RURERMQnqdAVEREREZ+kQldEREREfJIKXRERERHxSSp0RURERMQnqdAVEREREZ+kQldEREREfJIKXRERERHxSSp0RURERMQnqdAVEREREZ+kQldExAcdO3aMggUL8vLLL7vWrV69mpCQEFasWGFjMhGRrOOwLMuyO4SIiGS8xYsX06pVK1avXk2FChWoVq0aDzzwAJMmTbI7mohIllChKyLiw/r06cPy5cupWbMmf/75J2vXriU0NNTuWCIiWUKFroiID7tw4QKVK1fm33//Zd26dVSpUsXuSCIiWUZ9dEVEfNiuXbs4ePAgiYmJ7Nmzx+44IiJZSmd0RUR8VFxcHLVq1aJatWpUqFCB119/nT///JP8+fPbHU1EJEuo0BUR8VGDBg1iwYIFbNq0iezZs1O/fn1y5szJV199ZXc0EZEsoa4LIiI+aNWqVbz++ut89NFHREZGEhAQwEcffcSPP/7I22+/bXc8EZEsoTO6IiIiIuKTdEZXRERERHySCl0RERER8UkqdEVERETEJ6nQFRERERGfpEJXRERERHySCl0RERER8UkqdEVERETEJ6nQFRERERGfpEJXRERERHySCl0RERER8UkqdEVERETEJ/0fNRYRhEHwTmUAAAAASUVORK5CYII=\n"
                },
                "metadata": {}
              }
            ]
          }
        },
        "9abf303a1ee840e7a594414edbf31fe2": {
          "model_module": "@jupyter-widgets/base",
          "model_name": "LayoutModel",
          "model_module_version": "1.2.0",
          "state": {
            "_model_module": "@jupyter-widgets/base",
            "_model_module_version": "1.2.0",
            "_model_name": "LayoutModel",
            "_view_count": null,
            "_view_module": "@jupyter-widgets/base",
            "_view_module_version": "1.2.0",
            "_view_name": "LayoutView",
            "align_content": null,
            "align_items": null,
            "align_self": null,
            "border": null,
            "bottom": null,
            "display": null,
            "flex": null,
            "flex_flow": null,
            "grid_area": null,
            "grid_auto_columns": null,
            "grid_auto_flow": null,
            "grid_auto_rows": null,
            "grid_column": null,
            "grid_gap": null,
            "grid_row": null,
            "grid_template_areas": null,
            "grid_template_columns": null,
            "grid_template_rows": null,
            "height": null,
            "justify_content": null,
            "justify_items": null,
            "left": null,
            "margin": null,
            "max_height": null,
            "max_width": null,
            "min_height": null,
            "min_width": null,
            "object_fit": null,
            "object_position": null,
            "order": null,
            "overflow": null,
            "overflow_x": null,
            "overflow_y": null,
            "padding": null,
            "right": null,
            "top": null,
            "visibility": null,
            "width": null
          }
        },
        "7753a6f5ce4e4a3ba3582f80dc14f51a": {
          "model_module": "@jupyter-widgets/base",
          "model_name": "LayoutModel",
          "model_module_version": "1.2.0",
          "state": {
            "_model_module": "@jupyter-widgets/base",
            "_model_module_version": "1.2.0",
            "_model_name": "LayoutModel",
            "_view_count": null,
            "_view_module": "@jupyter-widgets/base",
            "_view_module_version": "1.2.0",
            "_view_name": "LayoutView",
            "align_content": null,
            "align_items": null,
            "align_self": null,
            "border": null,
            "bottom": null,
            "display": null,
            "flex": null,
            "flex_flow": null,
            "grid_area": null,
            "grid_auto_columns": null,
            "grid_auto_flow": null,
            "grid_auto_rows": null,
            "grid_column": null,
            "grid_gap": null,
            "grid_row": null,
            "grid_template_areas": null,
            "grid_template_columns": null,
            "grid_template_rows": null,
            "height": null,
            "justify_content": null,
            "justify_items": null,
            "left": null,
            "margin": null,
            "max_height": null,
            "max_width": null,
            "min_height": null,
            "min_width": null,
            "object_fit": null,
            "object_position": null,
            "order": null,
            "overflow": null,
            "overflow_x": null,
            "overflow_y": null,
            "padding": null,
            "right": null,
            "top": null,
            "visibility": null,
            "width": null
          }
        },
        "5b935e1e8a9149618423f3c5edc976a8": {
          "model_module": "@jupyter-widgets/controls",
          "model_name": "SliderStyleModel",
          "model_module_version": "1.5.0",
          "state": {
            "_model_module": "@jupyter-widgets/controls",
            "_model_module_version": "1.5.0",
            "_model_name": "SliderStyleModel",
            "_view_count": null,
            "_view_module": "@jupyter-widgets/base",
            "_view_module_version": "1.2.0",
            "_view_name": "StyleView",
            "description_width": "",
            "handle_color": null
          }
        },
        "4414ad3f45434a00b0c1dab1237015a9": {
          "model_module": "@jupyter-widgets/base",
          "model_name": "LayoutModel",
          "model_module_version": "1.2.0",
          "state": {
            "_model_module": "@jupyter-widgets/base",
            "_model_module_version": "1.2.0",
            "_model_name": "LayoutModel",
            "_view_count": null,
            "_view_module": "@jupyter-widgets/base",
            "_view_module_version": "1.2.0",
            "_view_name": "LayoutView",
            "align_content": null,
            "align_items": null,
            "align_self": null,
            "border": null,
            "bottom": null,
            "display": null,
            "flex": null,
            "flex_flow": null,
            "grid_area": null,
            "grid_auto_columns": null,
            "grid_auto_flow": null,
            "grid_auto_rows": null,
            "grid_column": null,
            "grid_gap": null,
            "grid_row": null,
            "grid_template_areas": null,
            "grid_template_columns": null,
            "grid_template_rows": null,
            "height": null,
            "justify_content": null,
            "justify_items": null,
            "left": null,
            "margin": null,
            "max_height": null,
            "max_width": null,
            "min_height": null,
            "min_width": null,
            "object_fit": null,
            "object_position": null,
            "order": null,
            "overflow": null,
            "overflow_x": null,
            "overflow_y": null,
            "padding": null,
            "right": null,
            "top": null,
            "visibility": null,
            "width": null
          }
        },
        "0ff0cf9d336142c99ce522032233f667": {
          "model_module": "@jupyter-widgets/controls",
          "model_name": "SliderStyleModel",
          "model_module_version": "1.5.0",
          "state": {
            "_model_module": "@jupyter-widgets/controls",
            "_model_module_version": "1.5.0",
            "_model_name": "SliderStyleModel",
            "_view_count": null,
            "_view_module": "@jupyter-widgets/base",
            "_view_module_version": "1.2.0",
            "_view_name": "StyleView",
            "description_width": "",
            "handle_color": null
          }
        },
        "3392fd96f73444319a145988e0fa252c": {
          "model_module": "@jupyter-widgets/base",
          "model_name": "LayoutModel",
          "model_module_version": "1.2.0",
          "state": {
            "_model_module": "@jupyter-widgets/base",
            "_model_module_version": "1.2.0",
            "_model_name": "LayoutModel",
            "_view_count": null,
            "_view_module": "@jupyter-widgets/base",
            "_view_module_version": "1.2.0",
            "_view_name": "LayoutView",
            "align_content": null,
            "align_items": null,
            "align_self": null,
            "border": null,
            "bottom": null,
            "display": null,
            "flex": null,
            "flex_flow": null,
            "grid_area": null,
            "grid_auto_columns": null,
            "grid_auto_flow": null,
            "grid_auto_rows": null,
            "grid_column": null,
            "grid_gap": null,
            "grid_row": null,
            "grid_template_areas": null,
            "grid_template_columns": null,
            "grid_template_rows": null,
            "height": null,
            "justify_content": null,
            "justify_items": null,
            "left": null,
            "margin": null,
            "max_height": null,
            "max_width": null,
            "min_height": null,
            "min_width": null,
            "object_fit": null,
            "object_position": null,
            "order": null,
            "overflow": null,
            "overflow_x": null,
            "overflow_y": null,
            "padding": null,
            "right": null,
            "top": null,
            "visibility": null,
            "width": null
          }
        },
        "e8b6df36610648508d329a239eb30343": {
          "model_module": "@jupyter-widgets/controls",
          "model_name": "SliderStyleModel",
          "model_module_version": "1.5.0",
          "state": {
            "_model_module": "@jupyter-widgets/controls",
            "_model_module_version": "1.5.0",
            "_model_name": "SliderStyleModel",
            "_view_count": null,
            "_view_module": "@jupyter-widgets/base",
            "_view_module_version": "1.2.0",
            "_view_name": "StyleView",
            "description_width": "",
            "handle_color": null
          }
        },
        "77322d1e5f1940fab6bb88480ca8595f": {
          "model_module": "@jupyter-widgets/base",
          "model_name": "LayoutModel",
          "model_module_version": "1.2.0",
          "state": {
            "_model_module": "@jupyter-widgets/base",
            "_model_module_version": "1.2.0",
            "_model_name": "LayoutModel",
            "_view_count": null,
            "_view_module": "@jupyter-widgets/base",
            "_view_module_version": "1.2.0",
            "_view_name": "LayoutView",
            "align_content": null,
            "align_items": null,
            "align_self": null,
            "border": null,
            "bottom": null,
            "display": null,
            "flex": null,
            "flex_flow": null,
            "grid_area": null,
            "grid_auto_columns": null,
            "grid_auto_flow": null,
            "grid_auto_rows": null,
            "grid_column": null,
            "grid_gap": null,
            "grid_row": null,
            "grid_template_areas": null,
            "grid_template_columns": null,
            "grid_template_rows": null,
            "height": null,
            "justify_content": null,
            "justify_items": null,
            "left": null,
            "margin": null,
            "max_height": null,
            "max_width": null,
            "min_height": null,
            "min_width": null,
            "object_fit": null,
            "object_position": null,
            "order": null,
            "overflow": null,
            "overflow_x": null,
            "overflow_y": null,
            "padding": null,
            "right": null,
            "top": null,
            "visibility": null,
            "width": null
          }
        },
        "4cf8fd9035fb4c6a9ebf491371928970": {
          "model_module": "@jupyter-widgets/controls",
          "model_name": "SliderStyleModel",
          "model_module_version": "1.5.0",
          "state": {
            "_model_module": "@jupyter-widgets/controls",
            "_model_module_version": "1.5.0",
            "_model_name": "SliderStyleModel",
            "_view_count": null,
            "_view_module": "@jupyter-widgets/base",
            "_view_module_version": "1.2.0",
            "_view_name": "StyleView",
            "description_width": "",
            "handle_color": null
          }
        },
        "d05f212f31084d589ec0fbbac28ae857": {
          "model_module": "@jupyter-widgets/base",
          "model_name": "LayoutModel",
          "model_module_version": "1.2.0",
          "state": {
            "_model_module": "@jupyter-widgets/base",
            "_model_module_version": "1.2.0",
            "_model_name": "LayoutModel",
            "_view_count": null,
            "_view_module": "@jupyter-widgets/base",
            "_view_module_version": "1.2.0",
            "_view_name": "LayoutView",
            "align_content": null,
            "align_items": null,
            "align_self": null,
            "border": null,
            "bottom": null,
            "display": null,
            "flex": null,
            "flex_flow": null,
            "grid_area": null,
            "grid_auto_columns": null,
            "grid_auto_flow": null,
            "grid_auto_rows": null,
            "grid_column": null,
            "grid_gap": null,
            "grid_row": null,
            "grid_template_areas": null,
            "grid_template_columns": null,
            "grid_template_rows": null,
            "height": null,
            "justify_content": null,
            "justify_items": null,
            "left": null,
            "margin": null,
            "max_height": null,
            "max_width": null,
            "min_height": null,
            "min_width": null,
            "object_fit": null,
            "object_position": null,
            "order": null,
            "overflow": null,
            "overflow_x": null,
            "overflow_y": null,
            "padding": null,
            "right": null,
            "top": null,
            "visibility": null,
            "width": null
          }
        }
      }
    }
  },
  "cells": [
    {
      "cell_type": "markdown",
      "metadata": {
        "id": "EsfO5Q92tL-6"
      },
      "source": [
        "[![freeCodeCamp](https://cdn.freecodecamp.org/testable-projects-fcc/images/fcc_secondary.svg)](https://freecodecamp.org/)"
      ]
    },
    {
      "cell_type": "markdown",
      "metadata": {
        "id": "57mlyO58UfN0"
      },
      "source": [
        "**Learn Foundational Math 3 by Building a Financial App**<br>\n",
        "Each of these steps will lead you toward the Certification Project. Once you complete a step, click to expand the next step."
      ]
    },
    {
      "cell_type": "markdown",
      "metadata": {
        "id": "szp5flp1fA8-"
      },
      "source": [
        "# &darr; **Do this first** &darr;\n",
        "Copy this notebook to your own account by clicking the `File` button at the top, and then click `Save a copy in Drive`. You will need to be logged in to Google. The file will be in a folder called \"Colab Notebooks\" in your Google Drive."
      ]
    },
    {
      "cell_type": "markdown",
      "source": [
        "# Step 0 - Acquire the Testing Library"
      ],
      "metadata": {
        "id": "KDloBuvnHQTS"
      }
    },
    {
      "cell_type": "markdown",
      "source": [
        "Please run this code to get the library file from FreeCodeCamp. Each step will use this library to test your code. You do not need to edit anything; just run this code cell and wait a few seconds until it tells you to go on to the next step."
      ],
      "metadata": {
        "id": "JiW6TlNezZKS"
      }
    },
    {
      "cell_type": "code",
      "source": [
        "# You may need to run this cell at the beginning of each new session\n",
        "\n",
        "!pip install requests\n",
        "\n",
        "# This will just take a few seconds\n",
        "\n",
        "import requests\n",
        "\n",
        "# Get the library from GitHub\n",
        "url = 'https://raw.githubusercontent.com/edatfreecodecamp/python-math/main/math-code-test-c.py'\n",
        "r = requests.get(url)\n",
        "\n",
        "# Save the library in a local working directory\n",
        "with open('math_code_test_c.py', 'w') as f:\n",
        "    f.write(r.text)\n",
        "\n",
        "# Now you can import the library\n",
        "import math_code_test_c as test\n",
        "\n",
        "# This will tell you if the code works\n",
        "test.step00()"
      ],
      "metadata": {
        "id": "eTlHceacGa1C",
        "outputId": "333a6e88-c705-4894-ece2-a91fa163b33d",
        "colab": {
          "base_uri": "https://localhost:8080/"
        }
      },
      "execution_count": 1,
      "outputs": [
        {
          "output_type": "stream",
          "name": "stdout",
          "text": [
            "Requirement already satisfied: requests in /usr/local/lib/python3.10/dist-packages (2.32.3)\n",
            "Requirement already satisfied: charset-normalizer<4,>=2 in /usr/local/lib/python3.10/dist-packages (from requests) (3.4.0)\n",
            "Requirement already satisfied: idna<4,>=2.5 in /usr/local/lib/python3.10/dist-packages (from requests) (3.10)\n",
            "Requirement already satisfied: urllib3<3,>=1.21.1 in /usr/local/lib/python3.10/dist-packages (from requests) (2.2.3)\n",
            "Requirement already satisfied: certifi>=2017.4.17 in /usr/local/lib/python3.10/dist-packages (from requests) (2024.12.14)\n",
            "Code test passed\n",
            "Go on to the next step\n"
          ]
        }
      ]
    },
    {
      "cell_type": "markdown",
      "metadata": {
        "id": "r1AM-AcqkbyF"
      },
      "source": [
        "# Step 1 - Graphing Inequalities"
      ]
    },
    {
      "cell_type": "markdown",
      "metadata": {
        "id": "K8rdL_OEkd-t"
      },
      "source": [
        "Learn Inequalities by Building Shaded Graphs. Notice how you set up the plot, like you learned in the last certification. Run the following code and you will see that the graph of y <u>></u> 2x is not quite right. Because y is greater, the shading should be above the line. The second two arguments in the `fill_between()` function give a range of y values to shade. Change just that part of the code to make the graph correct. (Hint: Think about the top of the graph.)\n"
      ]
    },
    {
      "cell_type": "code",
      "metadata": {
        "id": "QAVgVP3xUd4J",
        "outputId": "30abb213-1cfd-48f8-a0df-009fee45e494",
        "colab": {
          "base_uri": "https://localhost:8080/",
          "height": 504
        }
      },
      "source": [
        "import matplotlib.pyplot as plt\n",
        "import numpy as np\n",
        "\n",
        "xmin = -10\n",
        "xmax = 10\n",
        "ymin = - 10\n",
        "ymax = 10\n",
        "points = 2*(xmax-xmin)\n",
        "x = np.linspace(xmin,xmax,points)\n",
        "\n",
        "fig, ax = plt.subplots()\n",
        "plt.axis([xmin,xmax,ymin,ymax]) # window size\n",
        "plt.plot([xmin,xmax],[0,0],'b') # blue x axis\n",
        "plt.plot([0,0],[ymin,ymax], 'b') # blue y axis\n",
        "\n",
        "plt.title(\"y > 2x\")\n",
        "\n",
        "y1 = 2*x\n",
        "plt.plot(x, y1)\n",
        "\n",
        "# Only change code below this line\n",
        "plt.fill_between(x, y1, ymax)\n",
        "\n",
        "plt.show()\n",
        "\n",
        "\n",
        "# Only change code above this line\n",
        "import math_code_test_c as test\n",
        "test.step01(In[-1].split('# Only change code above this line')[0])"
      ],
      "execution_count": 3,
      "outputs": [
        {
          "output_type": "display_data",
          "data": {
            "text/plain": [
              "<Figure size 640x480 with 1 Axes>"
            ],
            "image/png": "[encoded data removed]"
          },
          "metadata": {}
        },
        {
          "output_type": "stream",
          "name": "stdout",
          "text": [
            " \n",
            "Code test passed\n",
            "Go on to the next step\n"
          ]
        }
      ]
    },
    {
      "cell_type": "markdown",
      "metadata": {
        "id": "8wXbGsoYkm60"
      },
      "source": [
        "# Step 2 - Graphing inequalities - Part 2"
      ]
    },
    {
      "cell_type": "markdown",
      "metadata": {
        "id": "ehY1G02Dkv7r"
      },
      "source": [
        "The default graph will give you a solid line, but you can change the type of line and the color. As `'b'` is for a solid blue line, `'b--'` will be a dashed blue line and `'r--'` will display a dashed red line. Change the code to graph a dashed red line."
      ]
    },
    {
      "cell_type": "code",
      "metadata": {
        "id": "3Pp_SmUikwgy",
        "outputId": "6cda4b9f-e172-422c-ed92-28b14fe2d1d9",
        "colab": {
          "base_uri": "https://localhost:8080/",
          "height": 487
        }
      },
      "source": [
        "import matplotlib.pyplot as plt\n",
        "import numpy as np\n",
        "\n",
        "xmin = -10\n",
        "xmax = 10\n",
        "ymin = - 10\n",
        "ymax = 10\n",
        "points = 2*(xmax-xmin)\n",
        "x = np.linspace(xmin,xmax,points)\n",
        "\n",
        "fig, ax = plt.subplots()\n",
        "plt.axis([xmin,xmax,ymin,ymax]) # window size\n",
        "plt.plot([xmin,xmax],[0,0],'b') # blue x axis\n",
        "plt.plot([0,0],[ymin,ymax], 'b') # blue y axis\n",
        "\n",
        "y1 = 2*x\n",
        "\n",
        "# Only change the next line:\n",
        "plt.plot(x, y1, 'r--')\n",
        "\n",
        "plt.fill_between(x, y1, ymin)\n",
        "plt.show()\n",
        "\n",
        "\n",
        "\n",
        "# Only change code above this line\n",
        "import math_code_test_c as test\n",
        "test.step02(In[-1].split('# Only change code above this line')[0])"
      ],
      "execution_count": 5,
      "outputs": [
        {
          "output_type": "display_data",
          "data": {
            "text/plain": [
              "<Figure size 640x480 with 1 Axes>"
            ],
            "image/png": "[encoded data removed]"
          },
          "metadata": {}
        },
        {
          "output_type": "stream",
          "name": "stdout",
          "text": [
            " \n",
            "Code test passed\n",
            "Go on to the next step\n"
          ]
        }
      ]
    },
    {
      "cell_type": "markdown",
      "metadata": {
        "id": "tBxuJtHck2Oo"
      },
      "source": [
        "# Step 3 - Making Art with Graphs"
      ]
    },
    {
      "cell_type": "markdown",
      "metadata": {
        "id": "PTr63nCrlTiM"
      },
      "source": [
        "Now plot four inequalities on the graph, in a pattern. Notice how you only need to define the x values once. In the `fill_between()` function notice a fourth argument, `facecolor=`, to indicate a different color for the shaded area. The color name in single quotes, like 'green' or 'yellow' or any common color name. Run the code to see the pattern, then reverse the order of the colors and run it again."
      ]
    },
    {
      "cell_type": "code",
      "metadata": {
        "id": "Iyoq1h3vlV-a",
        "outputId": "ee5de38b-27e1-4f5b-c0b2-c12d7cd72b5d",
        "colab": {
          "base_uri": "https://localhost:8080/",
          "height": 487
        }
      },
      "source": [
        "import matplotlib.pyplot as plt\n",
        "import numpy as np\n",
        "\n",
        "xmin = -10\n",
        "xmax = 10\n",
        "ymin = - 10\n",
        "ymax = 10\n",
        "points = 2*(xmax-xmin)\n",
        "x = np.linspace(xmin,xmax,points)\n",
        "\n",
        "fig, ax = plt.subplots()\n",
        "plt.axis([xmin,xmax,ymin,ymax]) # window size\n",
        "plt.plot([xmin,xmax],[0,0],'b') # blue x axis\n",
        "plt.plot([0,0],[ymin,ymax], 'b') # blue y axis\n",
        "\n",
        "# Only change the lines indicated below\n",
        "\n",
        "# line 1\n",
        "y1 = x+6\n",
        "plt.plot(x, y1)\n",
        "plt.fill_between(x, y1, 10, facecolor='blue') # change this line\n",
        "\n",
        "# line 2\n",
        "y2 = x+3\n",
        "plt.plot(x, y2)\n",
        "plt.fill_between(x, y2, y1, facecolor='green') # change this line\n",
        "\n",
        "# line 3\n",
        "y3 = x-1\n",
        "plt.plot(x, y3)\n",
        "plt.fill_between(x, y3, y2, facecolor='yellow') # change this line\n",
        "\n",
        "# line 4\n",
        "y4 = x-4\n",
        "plt.plot(x, y4)\n",
        "plt.fill_between(x, y4, y3, facecolor='red') # change this line\n",
        "\n",
        "plt.show()\n",
        "\n",
        "\n",
        "\n",
        "# Only change code above this line\n",
        "import math_code_test_c as test\n",
        "test.step03(In[-1].split('# Only change code above this line')[0])"
      ],
      "execution_count": 7,
      "outputs": [
        {
          "output_type": "display_data",
          "data": {
            "text/plain": [
              "<Figure size 640x480 with 1 Axes>"
            ],
            "image/png": "[encoded data removed]"
          },
          "metadata": {}
        },
        {
          "output_type": "stream",
          "name": "stdout",
          "text": [
            " \n",
            "Code test passed\n",
            "Go on to the next step\n"
          ]
        }
      ]
    },
    {
      "cell_type": "markdown",
      "metadata": {
        "id": "s3z_zaNWlet8"
      },
      "source": [
        "# Step 4 - Monomials"
      ]
    },
    {
      "cell_type": "markdown",
      "metadata": {
        "id": "BTOGQIpElet-"
      },
      "source": [
        "A <i>monomial</i> means \"one thing\" or one term. In a math equation, each term has a sign, a coefficient, and a variable to an exponent. Here are some examples: In the term -3x<sup>2</sup> you can see that the sign is negative, the coefficient is 3, the variable is x, the exponent is 2. The term x also has all of these parts: the sign is positive, the coefficient is 1, the variable is x, and the exponent is 1. In the term 5, the sign is positive, the coefficient is 5, the variable is still x, and the exponent is zero (notice that you don't need to write some of these parts, like x<sup>0</sup>). You can use `sympy` to display monomials nicely. Just run the code to see how this looks.  "
      ]
    },
    {
      "cell_type": "code",
      "metadata": {
        "id": "oAPKmzeblet_",
        "outputId": "8f5aefb6-934c-492e-a39c-d32575cb4fc6",
        "colab": {
          "base_uri": "https://localhost:8080/",
          "height": 73
        }
      },
      "source": [
        "from sympy import symbols, Eq\n",
        "\n",
        "x = symbols('x')\n",
        "eq1 = Eq(-2*x**3 , -16)\n",
        "display(eq1)\n",
        "\n",
        "\n",
        "# Just run this code\n",
        "import math_code_test_c as test\n",
        "test.step00()"
      ],
      "execution_count": 8,
      "outputs": [
        {
          "output_type": "display_data",
          "data": {
            "text/plain": [
              "Eq(-2*x**3, -16)"
            ],
            "text/latex": "$\\displaystyle - 2 x^{3} = -16$"
          },
          "metadata": {}
        },
        {
          "output_type": "stream",
          "name": "stdout",
          "text": [
            "Code test passed\n",
            "Go on to the next step\n"
          ]
        }
      ]
    },
    {
      "cell_type": "markdown",
      "metadata": {
        "id": "lnP9BOpPlhdK"
      },
      "source": [
        "# Step 5 - Polynomials"
      ]
    },
    {
      "cell_type": "markdown",
      "metadata": {
        "id": "ABF6PI7TlhdL"
      },
      "source": [
        "A \"monomial\" is one thing. A \"binomial\" is two things. A \"trinomial\" is three things. A \"polynomial\" is many things. In standard form, `x` is the variable; you put your terms in order from highest exponent to lowest; refer to the coefficients with letters in alphabetical order; and set all of this equal to `y` (because it is a function that you can graph). Example: y = ax<sup>4</sup> + bx<sup>3</sup> + cx<sup>2</sup> + dx + e <br>\n",
        "Write code to prompt for integer input and display a polynomial. Remember to use the `**` for exponents. Parts of this are already done for you."
      ]
    },
    {
      "cell_type": "code",
      "metadata": {
        "id": "USVAJRualhdL",
        "outputId": "e3ea0254-dc29-40e1-a7ae-5f861d84d736",
        "colab": {
          "base_uri": "https://localhost:8080/",
          "height": 177
        }
      },
      "source": [
        "from IPython.display import display, Math\n",
        "from sympy import *\n",
        "\n",
        "x,y = symbols('x y')\n",
        "\n",
        "a = int(input(\"Enter coefficient A: \"))\n",
        "b = int(input(\"Enter coefficient B: \"))\n",
        "# continue this to prompt for variables c and d\n",
        "c = int(input(\"Enter coefficient C: \"))\n",
        "d = int(input(\"Enter coefficient D: \"))\n",
        "\n",
        "# change the next line to display the full polynomial\n",
        "y = a*x**3 + b*x**2 + c*x + d\n",
        "\n",
        "print(\"Here is your equation:\")\n",
        "display(Math(\"y = \" + latex(y)))\n",
        "\n",
        "\n",
        "# Only change code above this line\n",
        "import math_code_test_c as test\n",
        "test.step05(In[-1].split('# Only change code above this line')[0])"
      ],
      "execution_count": 10,
      "outputs": [
        {
          "output_type": "stream",
          "name": "stdout",
          "text": [
            "Enter coefficient A: 1\n",
            "Enter coefficient B: 2\n",
            "Enter coefficient C: 3\n",
            "Enter coefficient D: 4\n",
            "Here is your equation:\n"
          ]
        },
        {
          "output_type": "display_data",
          "data": {
            "text/plain": [
              "<IPython.core.display.Math object>"
            ],
            "text/latex": "$\\displaystyle y = x^{3} + 2 x^{2} + 3 x + 4$"
          },
          "metadata": {}
        },
        {
          "output_type": "stream",
          "name": "stdout",
          "text": [
            " \n",
            "Code test passed\n",
            "Go on to the next step\n"
          ]
        }
      ]
    },
    {
      "cell_type": "markdown",
      "metadata": {
        "id": "yoavB8H_ljVn"
      },
      "source": [
        "# Step 6 - Interactive Polynomial Graph"
      ]
    },
    {
      "cell_type": "markdown",
      "metadata": {
        "id": "3yk-TKO6ljVo"
      },
      "source": [
        "For this polynomial, y = ax<sup>2</sup> + bx + c, you can move the sliders to adjust the coefficients and see how that affects the graph. Notice how the `f()` function takes two arguments and the `interactive()` function defines two sliders. Run this code and interact with it. Then add the third coefficient (\"c\") by changing three things: the `def` line so that the function takes three arguments, the `plt.plot` line so that it includes \"+ c\", and the `interactive` line to include a third slider."
      ]
    },
    {
      "cell_type": "code",
      "metadata": {
        "id": "sOecWXLOljVo",
        "outputId": "a3d83515-03b0-44e1-fd3b-e72746be49f4",
        "colab": {
          "base_uri": "https://localhost:8080/",
          "height": 583,
          "referenced_widgets": [
            "2a0ce287e50445c3a5e4419e2da3701e",
            "fa8336ebe6574b95b0066a4cdb48be43",
            "704a9b3be1e846499f7ddbab1a45b5e9",
            "847fdc39017843508b7954838a839aee",
            "297af401548c41c2b58160164f45c771",
            "fa584cb40be84b29856f4c618fd8cf35",
            "be5af6ccd49c4d0e84c9308e9e64a723",
            "c562ff91132945178ec4d2e668ef620a",
            "9c156296ddd7495a9e3934c4c5769701",
            "d674f450c3414d868facfc86d3350aad",
            "3a2a8f839a8b43ad8b565d40de569607",
            "aa60b6ffa1b64197b642a69a02f71296",
            "1de2714c6f184d76bbfaa3d3f940dbde"
          ]
        }
      },
      "source": [
        "%matplotlib inline\n",
        "from ipywidgets import interactive\n",
        "import matplotlib.pyplot as plt\n",
        "import numpy as np\n",
        "\n",
        "# Change the next line:\n",
        "def f(a, b, c):\n",
        "    plt.axis([-10,10,-10,10]) # window size\n",
        "    plt.plot([-10,10],[0,0],'k') # blue x axis\n",
        "    plt.plot([0,0],[-10,10], 'k') # blue y axis\n",
        "    x = np.linspace(-10, 10, 200)\n",
        "    plt.plot(x, a*x**2+b*x + c) # Change this line\n",
        "    plt.show()\n",
        "\n",
        "# Change the next line:\n",
        "interactive_plot = interactive(f, a=(-9, 9), b=(-9, 9), c=(-9, 9))\n",
        "display(interactive_plot)\n",
        "\n",
        "\n",
        "# Only change code above this line\n",
        "import math_code_test_c as test\n",
        "test.step06(In[-1].split('# Only change code above this line')[0])"
      ],
      "execution_count": 12,
      "outputs": [
        {
          "output_type": "display_data",
          "data": {
            "text/plain": [
              "interactive(children=(IntSlider(value=0, description='a', max=9, min=-9), IntSlider(value=0, description='b', …"
            ],
            "application/vnd.jupyter.widget-view+json": {
              "version_major": 2,
              "version_minor": 0,
              "model_id": "2a0ce287e50445c3a5e4419e2da3701e"
            }
          },
          "metadata": {}
        },
        {
          "output_type": "stream",
          "name": "stdout",
          "text": [
            " \n",
            "Code test passed\n",
            "Go on to the next step\n"
          ]
        }
      ]
    },
    {
      "cell_type": "markdown",
      "metadata": {
        "id": "MlRfYVIylkQf"
      },
      "source": [
        "# Step 7 - Exponential Functions"
      ]
    },
    {
      "cell_type": "markdown",
      "metadata": {
        "id": "H16dtXc0lkQg"
      },
      "source": [
        "The general formula for an `exponential function` is $y = a*b^{x}$ (where `a` and `b` are constants and `x` is the variable in the exponent). The shape of exponential graphs, especially when not drawn to scale, are very consistent, so the numerical values are more important to calculate. Things that grow exponentially include populations, investments, and other \"percent increase\" situations. Run this code and use the sliders to see the slight changes. Notice the scale. Then change the slider so that `a` has negative values from -9 to -1 and see how that changes the graph."
      ]
    },
    {
      "cell_type": "code",
      "metadata": {
        "id": "8KIMFu7LlkQg",
        "outputId": "4eaa980c-9638-41e3-bdaa-3a641a3a5a5a",
        "colab": {
          "base_uri": "https://localhost:8080/",
          "height": 551,
          "referenced_widgets": [
            "6eab6fbd85f64cfeab78be459ad22b8f",
            "e8bcacf3b4b24dd4ab976477fd0c17b8",
            "ba4e9b767cae4dc693887bed36e50be4",
            "9611142236034714989378f1522ae8cd",
            "c7482b25020449aabb5cb0164988e65a",
            "51e54683ebaa48a7a01d38ae76e64260",
            "4a0a2dd2dc0946fe968f45d97f92e19f",
            "96bcffaf8e1b4468b4672c0f497800cd",
            "2d625b9170bc4ac5a7de74aa0c6da7b4",
            "28311ca5c5354f4bab6b909f18c0fbd5"
          ]
        }
      },
      "source": [
        "%matplotlib inline\n",
        "from ipywidgets import interactive\n",
        "import matplotlib.pyplot as plt\n",
        "import numpy as np\n",
        "\n",
        "xmin = -10\n",
        "xmax = 10\n",
        "ymin = -100\n",
        "ymax = 100\n",
        "\n",
        "def f(a, b):\n",
        "    plt.axis([xmin,xmax,ymin,ymax]) # window size\n",
        "    plt.plot([xmin,xmax],[0,0],'k') # x axis\n",
        "    plt.plot([0,0],[ymin,ymax], 'k') # y axis\n",
        "    x = np.linspace(xmin, xmax, 1000)\n",
        "    plt.plot(x, a*b**x)\n",
        "    plt.show()\n",
        "\n",
        "# Only change the next line:\n",
        "interactive_plot = interactive(f, a=(-9, -1), b=(1, 9))\n",
        "display(interactive_plot)\n",
        "\n",
        "\n",
        "# Only change code above this line\n",
        "import math_code_test_c as test\n",
        "test.step07(In[-1].split('# Only change code above this line')[0])"
      ],
      "execution_count": 14,
      "outputs": [
        {
          "output_type": "display_data",
          "data": {
            "text/plain": [
              "interactive(children=(IntSlider(value=-5, description='a', max=-1, min=-9), IntSlider(value=5, description='b'…"
            ],
            "application/vnd.jupyter.widget-view+json": {
              "version_major": 2,
              "version_minor": 0,
              "model_id": "6eab6fbd85f64cfeab78be459ad22b8f"
            }
          },
          "metadata": {}
        },
        {
          "output_type": "stream",
          "name": "stdout",
          "text": [
            " \n",
            "Code test passed\n",
            "Go on to the next step\n"
          ]
        }
      ]
    },
    {
      "cell_type": "markdown",
      "metadata": {
        "id": "NGH1FcttllvS"
      },
      "source": [
        "# Step 8 - Percent Increase"
      ]
    },
    {
      "cell_type": "markdown",
      "metadata": {
        "id": "KLKYiioGllvT"
      },
      "source": [
        "One formula for calculating a percent increase is <b>A = P(1 + r)<sup>t</sup></b> where `A` would be the `y` value on a graph and `t` would be the `x` value. `A` is the <i>annuity</i>, which is the amount you have at the end. `P` is the <i>principle</i>, which is the amount you have at the beginning. `R` (usually not capitalized) is the <i>rate</i>, a percent converted to a decimal. The exponent `t` represents <i>time</i>, usually in years. The code already prompts for `P`, `r` and `t`, so use those variables to calculate the annuity value."
      ]
    },
    {
      "cell_type": "code",
      "metadata": {
        "id": "Vkp6zmxIllvT",
        "outputId": "d9a3b38e-a167-4004-bc75-c835e5c3c4d9",
        "colab": {
          "base_uri": "https://localhost:8080/"
        }
      },
      "source": [
        "p = float(input(\"Starting amount = \"))\n",
        "r = float(input(\"Enter the percentage rate, converted to a decimal: \"))\n",
        "t = float(input(\"How many years will this investment grow? \"))\n",
        "\n",
        "# Change the next line to calculate the annuity\n",
        "a = p*(1+r)**t\n",
        "\n",
        "print(\"The annuity is \", a)\n",
        "\n",
        "\n",
        "# Only change code above this line\n",
        "import math_code_test_c as test\n",
        "test.step08(In[-1].split('# Only change code above this line')[0])"
      ],
      "execution_count": 16,
      "outputs": [
        {
          "output_type": "stream",
          "name": "stdout",
          "text": [
            "Starting amount = 1\n",
            "Enter the percentage rate, converted to a decimal: 2\n",
            "How many years will this investment grow? 3\n",
            "The annuity is  27.0\n",
            " \n",
            "Code test passed\n",
            "Go on to the next step\n"
          ]
        }
      ]
    },
    {
      "cell_type": "markdown",
      "metadata": {
        "id": "Sx0kwIdalmmY"
      },
      "source": [
        "# Step 9 - Percent Decrease"
      ]
    },
    {
      "cell_type": "markdown",
      "metadata": {
        "id": "Wx7fXQDKlmmZ"
      },
      "source": [
        "The percent decrease formula is very similar, except you subtract the rate, so the formula is <b>A = P(1 - r)<sup>t</sup></b>. Some things that decrease by a percent include car values, decay of some elements, and sales discounts. Use the existing variables to calculate the final value (`a`)."
      ]
    },
    {
      "cell_type": "code",
      "metadata": {
        "id": "zJmQoa6YlmmZ",
        "outputId": "d5aceb2a-e05d-4478-df48-a9b39f0bc4ef",
        "colab": {
          "base_uri": "https://localhost:8080/"
        }
      },
      "source": [
        "p = float(input(\"Starting amount = \"))\n",
        "r = float(input(\"Enter the percentage rate, converted to a decimal: \"))\n",
        "t = float(input(\"How many years will this decrease continue? \"))\n",
        "\n",
        "# Change the next line to calculate the final amount\n",
        "a = p*(1-r)**t\n",
        "\n",
        "print(\"The final amount is \", a)\n",
        "\n",
        "# Only change code above this line\n",
        "import math_code_test_c as test\n",
        "test.step09(In[-1].split('# Only change code above this line')[0])"
      ],
      "execution_count": 18,
      "outputs": [
        {
          "output_type": "stream",
          "name": "stdout",
          "text": [
            "Starting amount = 1\n",
            "Enter the percentage rate, converted to a decimal: 2\n",
            "How many years will this decrease continue? 3\n",
            "The final amount is  -1.0\n",
            " \n",
            "Code test passed\n",
            "Go on to the next step\n"
          ]
        }
      ]
    },
    {
      "cell_type": "markdown",
      "source": [
        "#Step 10 - Compound Interest"
      ],
      "metadata": {
        "id": "S-DVSzwDvKvE"
      }
    },
    {
      "cell_type": "markdown",
      "source": [
        "When you use percent increase formulas for money in the bank, it's called <i>compound interest</i>. The amount of money you earn beyond the original principle is the interest. When the bank calculates the interest and adds it to the principle, that process is called <i>compounding</i> and it can happen any number of times per year. The formula is <b> A = P(1 + $\\frac{r}{n}$)<sup>nt</sup></b> where <i>n</i> is the number of times the bank compounds the money per year. Notice that if n = 1 then this formula is the same as the formula from an earlier step. Write the code to calculate the annuity (hint: use extra parentheses)."
      ],
      "metadata": {
        "id": "qf181QFOvCgd"
      }
    },
    {
      "cell_type": "code",
      "source": [
        "p = float(input(\"Starting amount: \"))\n",
        "r = float(input(\"Percentage rate, converted to a decimal: \"))\n",
        "t = float(input(\"Number of years this investment will grow: \"))\n",
        "n = int(input(\"Number of times compounded per year: \"))\n",
        "\n",
        "# Change the next line to calculate the annuity\n",
        "annuity = p*(1+(r/n))**(n*t)\n",
        "\n",
        "print(\"The annuity is \", annuity)\n",
        "\n",
        "\n",
        "# Only change code above this line\n",
        "import math_code_test_c as test\n",
        "test.step10(In[-1].split('# Only change code above this line')[0])"
      ],
      "metadata": {
        "id": "O0FAXixVvGXh",
        "outputId": "251922c9-3752-4487-eb28-7c0a7b506cf6",
        "colab": {
          "base_uri": "https://localhost:8080/"
        }
      },
      "execution_count": 20,
      "outputs": [
        {
          "output_type": "stream",
          "name": "stdout",
          "text": [
            "Starting amount: 1\n",
            "Percentage rate, converted to a decimal: 2\n",
            "Number of years this investment will grow: 3\n",
            "Number of times compounded per year: 4\n",
            "The annuity is  129.746337890625\n",
            " \n",
            "Code test passed\n",
            "Go on to the next step\n"
          ]
        }
      ]
    },
    {
      "cell_type": "markdown",
      "metadata": {
        "id": "H6LTAPYplxvi"
      },
      "source": [
        "# Step 11 - Continuous Growth"
      ]
    },
    {
      "cell_type": "markdown",
      "metadata": {
        "id": "5oRPxD6olxvi"
      },
      "source": [
        "In the first formula, A = P(1 + r)<sup>t</sup>, money is compounded annually.<br>\n",
        "In the second formula, A = P(1 + $\\frac{r}{n})^{nt}$, money is compounded `n` times per year.<br>\n",
        "As `n` gets to be a really big number, you get a different formula, A = Pe$^{rt}$, for continuous growth.<br>\n",
        "In this formula, `e` is a constant, about equal to 2.718281828. The following code already prompts for the four variables once. Use those variables to compare the annuity from the three formulas. Notice you need to `import math` to use `math.e` (the best approximation of e)."
      ]
    },
    {
      "cell_type": "code",
      "metadata": {
        "id": "kf3Q0Yg7lxvk",
        "outputId": "6dffc2cd-eb18-4658-e798-63a09ef995f8",
        "colab": {
          "base_uri": "https://localhost:8080/"
        }
      },
      "source": [
        "import math\n",
        "\n",
        "p = float(input(\"Principle: \"))\n",
        "r = float(input(\"Rate: \"))\n",
        "t = int(input(\"Time: \"))\n",
        "n = int(input(\"N: \"))\n",
        "\n",
        "# Only change the following three formulas:\n",
        "a_annual = p*(1+r)**t\n",
        "a_n_times = p*(1+r/n)**(n*t)\n",
        "a_continuous = p*math.e**(r*t) # use math.e in this formula\n",
        "\n",
        "# Only change the code above this line\n",
        "\n",
        "print(\"Compounded annually, anuity = \", a_annual)\n",
        "print(\"Compounded \", n, \"times per year, anuity = \", a_n_times)\n",
        "print(\"Compounded continuously, anuity = \", a_continuous)\n",
        "\n",
        "\n",
        "# Only change code above this line\n",
        "import math_code_test_c as test\n",
        "test.step11(In[-1].split('# Only change code above this line')[0])"
      ],
      "execution_count": 32,
      "outputs": [
        {
          "output_type": "stream",
          "name": "stdout",
          "text": [
            "Principle: 1\n",
            "Rate: 2\n",
            "Time: 3\n",
            "N: 4\n",
            "Compounded annually, anuity =  27.0\n",
            "Compounded  4 times per year, anuity =  129.746337890625\n",
            "Compounded continuously, anuity =  403.428793492735\n",
            " \n",
            "Code test passed\n",
            "Go on to the next step\n"
          ]
        }
      ]
    },
    {
      "cell_type": "markdown",
      "metadata": {
        "id": "iaEBltZXln-Q"
      },
      "source": [
        "# Step 12 - Investments"
      ]
    },
    {
      "cell_type": "markdown",
      "source": [
        "If you have an investment where you contrubute money every month and the value also increases by a consistent percentage, you can create a loop to calculate the accumulated value. In each iteration, use the <i>simple interest</i> formula: interest = principle * rate * time. (Hint: for one month, t = $\\frac{1}{12}$ or you can just divide by 12.)"
      ],
      "metadata": {
        "id": "JTQ9uZw3UeGT"
      }
    },
    {
      "cell_type": "code",
      "metadata": {
        "id": "t7sRzH5Oln-R",
        "outputId": "1428ac8e-049f-4ed7-eaaa-cce0766e114b",
        "colab": {
          "base_uri": "https://localhost:8080/"
        }
      },
      "source": [
        "p = float(input(\"Starting amount: \"))\n",
        "r = float(input(\"Annual percentage rate: \"))\n",
        "t = int(input(\"Number of years: \"))\n",
        "monthly = float(input(\"Monthly contribution: \"))\n",
        "\n",
        "# Hint: keep updating this annuity variable in the loop\n",
        "annuity = p\n",
        "\n",
        "# Each iteration of the loop represents one month\n",
        "for a in range(12*t):\n",
        "    annuity = annuity + monthly\n",
        "    # Change the next line to calculate the interest\n",
        "    interest = annuity * r / 12\n",
        "    annuity = annuity + interest\n",
        "\n",
        "# Keep this line:\n",
        "print(\"Annuity = \", annuity)\n",
        "\n",
        "\n",
        "# Only change code above this line\n",
        "import math_code_test_c as test\n",
        "test.step12(p,r,t,monthly,annuity)"
      ],
      "execution_count": 24,
      "outputs": [
        {
          "output_type": "stream",
          "name": "stdout",
          "text": [
            "Starting amount: 1\n",
            "Annual percentage rate: 2\n",
            "Number of years: 3\n",
            "Monthly contribution: 4\n",
            "Annuity =  7427.596994723726\n",
            " \n",
            "Code test passed\n",
            "Go on to the next step\n"
          ]
        }
      ]
    },
    {
      "cell_type": "markdown",
      "metadata": {
        "id": "l5GwlqRdlpEu"
      },
      "source": [
        "# Step 13 - Mortgage Payments"
      ]
    },
    {
      "cell_type": "markdown",
      "metadata": {
        "id": "50OH4hj8lpEv"
      },
      "source": [
        "When borrowing a large amount of money over a long period of time, the formula to calculate monthly payments gets complicated. Here it is:<br>\n",
        " monthly payment = P$\\frac{\\frac{r}{12}(1 + \\frac{r}{12})^{12t}}{(1 + \\frac{r}{12})^{12t} - 1}$ where, as usual, `P` is the principle, `r` is the annual interest rate (as a decimal), and  `t` is the time in years. Write the code to prompt for these variables and calculate the monthly payment. Hint: Use other variables and do this in steps."
      ]
    },
    {
      "cell_type": "code",
      "metadata": {
        "id": "E5X8_WbnlpEv",
        "outputId": "f0c2ea3b-c8c6-401a-fee2-d75ec4a0a7bf",
        "colab": {
          "base_uri": "https://localhost:8080/"
        }
      },
      "source": [
        "p = float(input(\"Amount borrowed: \"))\n",
        "r = float(input(\"Annual percentage rate: \"))\n",
        "t = float(input(\"Number of years: \"))\n",
        "\n",
        "# Write your code here and change the pmt variable\n",
        "\n",
        "mult = 1+r/12\n",
        "exp = 12*t\n",
        "top = r/12*mult**exp\n",
        "bot = (mult**exp)-1\n",
        "pmt = top/bot\n",
        "\n",
        "print(\"Monthly payment = $\", pmt)\n",
        "\n",
        "\n",
        "# Only change code above this line\n",
        "import math_code_test_c as test\n",
        "test.step13(p,r,t,pmt)"
      ],
      "execution_count": 27,
      "outputs": [
        {
          "output_type": "stream",
          "name": "stdout",
          "text": [
            "Amount borrowed: 1\n",
            "Annual percentage rate: 2\n",
            "Number of years: 3\n",
            "Monthly payment = $ 0.16731748067162305\n",
            " \n",
            "Code test passed\n",
            "Go on to the next step\n"
          ]
        }
      ]
    },
    {
      "cell_type": "markdown",
      "metadata": {
        "id": "8vdTo36Pl0yv"
      },
      "source": [
        "# Step 14 - Exponents and Logarithms"
      ]
    },
    {
      "cell_type": "markdown",
      "metadata": {
        "id": "gyMju8CVl0yw"
      },
      "source": [
        "Exponential functions and logarithmic functions are inverses of each other. Here is an example: <b>2<sup>4</sup> = 16</b> and <b>log<sub>2</sub>16 = 4</b>. Both have the same information rearranged in different ways. If you had 2<sup>4</sup> = x you would be able to do that easily, but if you had 2<sup>x</sup> = 16 it would be more difficult. You could write that last equation as a logarithm: log<sub>2</sub>16 = x. In Python, you would write this as `math.log(16,2)`. In both cases, you would read it as \"the log, base 2, of 16\" and the answer would be an exponent. The logarithm is especially useful when the exponent is not a nice integer. Write code to prompt for the base and the result, then use logarithms to calculate the exponent."
      ]
    },
    {
      "cell_type": "code",
      "metadata": {
        "id": "ehtA_ATbl0yw",
        "outputId": "5f819763-3162-44a8-eaef-475b8ff11d2b",
        "colab": {
          "base_uri": "https://localhost:8080/"
        }
      },
      "source": [
        "import math\n",
        "\n",
        "base = float(input(\"base: \"))\n",
        "result = float(input(\"result: \"))\n",
        "\n",
        "# Just change the next line:\n",
        "exp = math.log(result, base)\n",
        "\n",
        "print(\"exponent = \", exp)\n",
        "\n",
        "\n",
        "# Only change code above this line\n",
        "import math_code_test_c as test\n",
        "test.step14(In[-1].split('# Only change code above this line')[0])"
      ],
      "execution_count": 30,
      "outputs": [
        {
          "output_type": "stream",
          "name": "stdout",
          "text": [
            "base: 10\n",
            "result: 2\n",
            "exponent =  0.30102999566398114\n",
            " \n",
            "Code test passed\n",
            "Go on to the next step\n"
          ]
        }
      ]
    },
    {
      "cell_type": "markdown",
      "metadata": {
        "id": "U_7bv7aG4UJe"
      },
      "source": [
        "# Step 15 - Natural Logs"
      ]
    },
    {
      "cell_type": "markdown",
      "metadata": {
        "id": "uKjifZw04UJe"
      },
      "source": [
        "If you know the rate, how long will it take for something to double?\n",
        "Start with the continuous growth formula:<br>\n",
        "A = Pe<sup>rt</sup><br>\n",
        "If annuity is two times the principle, divide both sides by P\n",
        "and get this:<br>\n",
        "2 = e<sup>rt</sup><br>\n",
        "Because of the base <i>e</i>, take the natural log of both sides and get this:<br>\n",
        "ln(2) = rt<br>\n",
        "Then divide by r to solve for t or divide by t to solve for r. In Python, use `math.log()` with one argument and no base to calculate natural log (which is a logarithm with base e). So the natural log of 2 is `math.log(2)`. Just run the code to see this example."
      ]
    },
    {
      "cell_type": "code",
      "metadata": {
        "id": "dM3RxByK4UJe",
        "outputId": "30860345-927d-4d91-b0d0-85adf9ee3227",
        "colab": {
          "base_uri": "https://localhost:8080/"
        }
      },
      "source": [
        "import math\n",
        "\n",
        "r = float(input(\"Enter the annual rate as a decimal: \\n\"))\n",
        "t = math.log(2)/r\n",
        "print(\"Your money will double in \", t, \" years\")\n",
        "\n",
        "\n",
        "# Just run this code\n",
        "import math_code_test_c as test\n",
        "test.step00()"
      ],
      "execution_count": 33,
      "outputs": [
        {
          "output_type": "stream",
          "name": "stdout",
          "text": [
            "Enter the annual rate as a decimal: \n",
            "1\n",
            "Your money will double in  0.6931471805599453  years\n",
            "Code test passed\n",
            "Go on to the next step\n"
          ]
        }
      ]
    },
    {
      "cell_type": "markdown",
      "metadata": {
        "id": "B7DOz9nh4XAb"
      },
      "source": [
        "# Step 16 - Common Logs"
      ]
    },
    {
      "cell_type": "markdown",
      "metadata": {
        "id": "MD3dH5yF4XAb"
      },
      "source": [
        "The <i>common log</i> is base 10, because that is our number system. Run this code a few times to see how the exponents relate to moving the decimal point to get the resulting number. Notice the floor function. Then take out the floor function to see the exact logarithm."
      ]
    },
    {
      "cell_type": "code",
      "metadata": {
        "id": "n390hG0GcEXI",
        "outputId": "1b822f49-587d-40de-d6d0-ccf6e9dd03ab",
        "colab": {
          "base_uri": "https://localhost:8080/"
        }
      },
      "source": [
        "import math\n",
        "\n",
        "n = input('Enter a number with several digits or several decimal places: ')\n",
        "n = float(n)\n",
        "\n",
        "\n",
        "# Rund the code then change the next line:\n",
        "exp = math.log(n, 10)\n",
        "\n",
        "# This avoids a weird Python quirk:\n",
        "if n==1000:\n",
        "    exp = 3;\n",
        "\n",
        "print(\"exponent = \", exp)\n",
        "\n",
        "\n",
        "# Only change code above this line\n",
        "import math_code_test_c as test\n",
        "test.step16(In[-1].split('# Only change code above this line')[0])"
      ],
      "execution_count": 35,
      "outputs": [
        {
          "output_type": "stream",
          "name": "stdout",
          "text": [
            "Enter a number with several digits or several decimal places: 1\n",
            "exponent =  0.0\n",
            " \n",
            "Code test passed\n",
            "Go on to the next step\n"
          ]
        }
      ]
    },
    {
      "cell_type": "markdown",
      "metadata": {
        "id": "cqvLtj7t4VMN"
      },
      "source": [
        "# Step 17 - Scientific Notation"
      ]
    },
    {
      "cell_type": "markdown",
      "metadata": {
        "id": "-Uh4YmRt4VMN"
      },
      "source": [
        "<i>Scientific Notation</i> is a way of writing very large or very small numbers without all of the zeros or decimal places. For example, 45,000,000 could be written as 4.5 x 10<sup>7</sup> in scientific notation and 0.00000045 could be written as 4.5 x 10<sup>-7</sup>. The notation requires base 10, so it will always use the structure <b>n $*$ 10<sup>x</sup></b> where n is one digit then the decimal point. Change the code below to print each number in scientific notation. Determine the value of each variable by counting (not writing code). You will automate this process in the next step."
      ]
    },
    {
      "cell_type": "code",
      "metadata": {
        "id": "UyPF6dKz4VMO",
        "outputId": "6c63508f-26d5-4f8d-e209-173d241cca0d",
        "colab": {
          "base_uri": "https://localhost:8080/"
        }
      },
      "source": [
        "a = 156000000000\n",
        "b = 0.000000000413\n",
        "\n",
        "# Change the code below this line\n",
        "\n",
        "a1 = 1.56\n",
        "a2 = 11\n",
        "b1 = 4.13\n",
        "b2 = -10\n",
        "\n",
        "print(a, \" = \", a1, \"* 10^\", a2)\n",
        "\n",
        "print(b, \" = \", b1, \"* 10^\", b2)\n",
        "\n",
        "\n",
        "# Only change code above this line\n",
        "import math_code_test_c as test\n",
        "test.step17(b1,b2)"
      ],
      "execution_count": 37,
      "outputs": [
        {
          "output_type": "stream",
          "name": "stdout",
          "text": [
            "156000000000  =  1.56 * 10^ 11\n",
            "4.13e-10  =  4.13 * 10^ -10\n",
            " \n",
            "Code test passed\n",
            "Go on to the next step\n"
          ]
        }
      ]
    },
    {
      "cell_type": "markdown",
      "metadata": {
        "id": "GsLj1NhZl1ya"
      },
      "source": [
        "#Step 18 - Logs and Scientific Notation"
      ]
    },
    {
      "cell_type": "markdown",
      "metadata": {
        "id": "uhWbIGVml1yb"
      },
      "source": [
        "Writing code for scientific notation, you will make use of logarithms with base 10. Remember that scientific notation is in the form n $*$ 10<sup>x</sup> where `n` is one digit and then a decimal. To convert a number to scientific notation, take the log of the number and use the `floor()` function to get the expoenent (just as you did in a previous step). Divide the original number by 10 to that exponent and you get `n` (hint: dividing by 10<sup>x</sup> is the same as multiplying by 10<sup>-x</sup>). Rounding is usually necessary. Write the code to convert numbers to scientific notation."
      ]
    },
    {
      "cell_type": "code",
      "metadata": {
        "id": "y8PXrFCYl1yb",
        "outputId": "bb97704d-b668-47a4-93f9-68ad25c7c613",
        "colab": {
          "base_uri": "https://localhost:8080/"
        }
      },
      "source": [
        "import math\n",
        "\n",
        "a = .00000000000234\n",
        "b = 12300000000000\n",
        "\n",
        "# Use these three lines as a model\n",
        "x1 = math.floor(math.log(a,10))\n",
        "n1 = round(a*10**(-x1),2)\n",
        "print(\"a = \", n1, \"* 10^\", x1)\n",
        "\n",
        "# Change the next two lines to match the model\n",
        "x2 = math.floor(math.log(b,10))\n",
        "n2 = round(b*10**(-x2),2)\n",
        "print(\"b = \", n2, \"* 10^\", x2)\n",
        "\n",
        "\n",
        "\n",
        "# Only change code above this line\n",
        "import math_code_test_c as test\n",
        "test.step18(In[-1].split('# Only change code above this line')[0])"
      ],
      "execution_count": 39,
      "outputs": [
        {
          "output_type": "stream",
          "name": "stdout",
          "text": [
            "a =  2.34 * 10^ -12\n",
            "b =  1.23 * 10^ 13\n",
            " \n",
            "Code test passed\n",
            "Go on to the next step\n"
          ]
        }
      ]
    },
    {
      "cell_type": "markdown",
      "metadata": {
        "id": "d7Lc9KfMYU8Y"
      },
      "source": [
        "# Step 19 - Scientific Notation Conversion"
      ]
    },
    {
      "cell_type": "markdown",
      "metadata": {
        "id": "21gdVKfeYc5R"
      },
      "source": [
        "Now ask for a number as input, and write the code to convert that number into scientific notation. You can re-use code you used in the previous step, using `n` and `x` as variables to print n * 10^x."
      ]
    },
    {
      "cell_type": "code",
      "metadata": {
        "id": "VkOkpmrP4XAb",
        "outputId": "4f637ccd-fff3-4577-c756-fb133d797b28",
        "colab": {
          "base_uri": "https://localhost:8080/"
        }
      },
      "source": [
        "import math\n",
        "\n",
        "a = float(input('Enter a number to convert to scientific notation: '))\n",
        "\n",
        "# write your code here\n",
        "n = round(a*10**(-x),2)\n",
        "x = math.floor(math.log(a,10))\n",
        "print(a, \" = \")\n",
        "\n",
        "# Only change code above this line\n",
        "import math_code_test_c as test\n",
        "test.step19(In[-1].split('# Only change code above this line')[0])"
      ],
      "execution_count": 41,
      "outputs": [
        {
          "output_type": "stream",
          "name": "stdout",
          "text": [
            "Enter a number to convert to scientific notation: 1\n",
            "1.0  = \n",
            " \n",
            "Code test passed\n",
            "Go on to the next step\n"
          ]
        }
      ]
    },
    {
      "cell_type": "markdown",
      "metadata": {
        "id": "VkD30ljxlyw9"
      },
      "source": [
        "# Step 20 - Graphing Exponents and Logs"
      ]
    },
    {
      "cell_type": "markdown",
      "metadata": {
        "id": "A7YL0fIdlyw-"
      },
      "source": [
        "When not writing code, the <i>natural log</i> is written as \"ln\" and it means a logarithm with base e. Like any pair of inverse functions, the line y = e<sup>x</sup> and the line y = ln(x) are mirrored over the line y = x.  Because of the `np.linspace()` function in this code, `np.log()` works, but `math.log()` does not work here. Both log() functions in Python use e as the base by default. When using the `numpy` library, use `np.log10()` for base 10, `np.log2()` for base 2, etc. Because log functions can only have positive x values, the np.linspace() function will define a positive range for the log() function. Run this code, then change the blue line function to graph y = 2<sup>x</sup> and change the green line function to graph y = log<sub>2</sub>x and notice the similarities between the graphs."
      ]
    },
    {
      "cell_type": "code",
      "metadata": {
        "id": "fJiDmoW1lyw_",
        "outputId": "95d74070-d9a5-47e5-a325-7612bdf3d8d9",
        "colab": {
          "base_uri": "https://localhost:8080/",
          "height": 487
        }
      },
      "source": [
        "import matplotlib.pyplot as plt\n",
        "import numpy as np\n",
        "import math\n",
        "\n",
        "xmin = -10\n",
        "xmax = 10\n",
        "ymin = -10\n",
        "ymax = 10\n",
        "plt.axis([xmin,xmax,ymin,ymax]) # window size\n",
        "plt.plot([xmin,xmax],[0,0],'k') # x axis\n",
        "plt.plot([0,0],[ymin,ymax], 'k') # y axis\n",
        "\n",
        "# Same x values for two lines\n",
        "x1 = np.linspace(xmin, xmax, 1000)\n",
        "\n",
        "# Blue line for y = e^x\n",
        "plt.plot(x1, 2**x1, 'b')  # Change this line\n",
        "\n",
        "# Red line for y = x\n",
        "plt.plot(x1, x1, 'r')\n",
        "\n",
        "# Different x values for y = log(x) because x > 0\n",
        "x2 = np.linspace(.001, xmax, 500)\n",
        "\n",
        "# Green line for y = log(x)\n",
        "plt.plot(x2, np.log2(x2), 'g')  # Change this line\n",
        "\n",
        "plt.show()\n",
        "\n",
        "\n",
        "# Only change code above this line\n",
        "import math_code_test_c as test\n",
        "test.step20(In[-1].split('# Only change code above this line')[0])"
      ],
      "execution_count": 43,
      "outputs": [
        {
          "output_type": "display_data",
          "data": {
            "text/plain": [
              "<Figure size 640x480 with 1 Axes>"
            ],
            "image/png": "[encoded data removed]"
          },
          "metadata": {}
        },
        {
          "output_type": "stream",
          "name": "stdout",
          "text": [
            " \n",
            "Code test passed\n",
            "Go on to the next step\n"
          ]
        }
      ]
    },
    {
      "cell_type": "markdown",
      "metadata": {
        "id": "bJzxcKIfz8Qt"
      },
      "source": [
        "# Step 21 - Log Application - pH Scale"
      ]
    },
    {
      "cell_type": "markdown",
      "metadata": {
        "id": "pfF3voqSz8Q9"
      },
      "source": [
        "The pH scale, for measuring acids and bases, is a logarithmic scale. The negative log of the hydrogen concentration is the pH. Example: if the hydrogen concentration is .007 then that would be 7 * 10<sup>-3</sup> and therefore a pH of 3. Write the code to prompt for hydrogen concentration and then print the pH. Hint: the <i>ceiling</i> function (`math.ceil()`) works better than rounding here."
      ]
    },
    {
      "cell_type": "code",
      "metadata": {
        "id": "tepkvSubz8Q9",
        "outputId": "64eb9c1f-fc60-4272-99c0-76cb6d772dd6",
        "colab": {
          "base_uri": "https://localhost:8080/"
        }
      },
      "source": [
        "import math\n",
        "\n",
        "decimal = float(input(\"Enter the hydrogen concentration as a decimal number: \"))\n",
        "\n",
        "# Write your code here\n",
        "h = math.ceil(-math.log(decimal, 10))\n",
        "\n",
        "print(\"pH = \", h)\n",
        "\n",
        "# Only change code above this line\n",
        "import math_code_test_c as test\n",
        "test.step21(In[-1].split('# Only change code above this line')[0])"
      ],
      "execution_count": 45,
      "outputs": [
        {
          "output_type": "stream",
          "name": "stdout",
          "text": [
            "Enter the hydrogen concentration as a decimal number: 1\n",
            "pH =  0\n",
            " \n",
            "Code test passed\n"
          ]
        }
      ]
    },
    {
      "cell_type": "markdown",
      "source": [
        "# Step 22 - Functions for the Project"
      ],
      "metadata": {
        "id": "8iWUAktvPLYp"
      }
    },
    {
      "cell_type": "markdown",
      "source": [
        "Define a function for calculating mortgage payments and a function for calculating investment balance. Use code you wrote in earlier steps. Each function should prompt for input and print the output."
      ],
      "metadata": {
        "id": "a9gRwbr-PGPC"
      }
    },
    {
      "cell_type": "code",
      "source": [
        "# Write your code here\n",
        "def calculate_mortgage():\n",
        "    print(\"Calculate Mortgage Payments\")\n",
        "    principal = float(input(\"Enter the loan principal amount (€): \"))\n",
        "    annual_rate = float(input(\"Enter the annual interest rate (in %, e.g., 5 for 5%): \")) / 100\n",
        "    years = int(input(\"Enter the loan term (in years): \"))\n",
        "\n",
        "    monthly_rate = annual_rate / 12\n",
        "    months = years * 12\n",
        "    if monthly_rate > 0:\n",
        "        monthly_payment = principal * (monthly_rate * (1 + monthly_rate)**months) / ((1 + monthly_rate)**months - 1)\n",
        "    else:\n",
        "        monthly_payment = principal / months\n",
        "\n",
        "    print(f\"Monthly mortgage payment: €{monthly_payment:.2f}\")\n",
        "\n",
        "def calculate_investment_balance():\n",
        "    print(\"Calculate Investment Balance\")\n",
        "    principal = float(input(\"Enter the initial investment amount (€): \"))\n",
        "    annual_rate = float(input(\"Enter the annual interest rate (in %, e.g., 5 for 5%): \")) / 100\n",
        "    years = int(input(\"Enter the number of years: \"))\n",
        "    compounding_frequency = int(input(\"Enter the number of times interest is compounded per year (e.g., 1 for annually, 12 for monthly): \"))\n",
        "\n",
        "    # Formula: A = P(1 + r/n)^(n*t)\n",
        "    investment_balance = principal * (1 + annual_rate / compounding_frequency) ** (compounding_frequency * years)\n",
        "\n",
        "    print(f\"Investment balance after {years} years: €{investment_balance:.2f}\")\n",
        "\n",
        "# This step does not have a test"
      ],
      "metadata": {
        "id": "neFvvCOzO_WB"
      },
      "execution_count": 54,
      "outputs": []
    },
    {
      "cell_type": "markdown",
      "source": [
        "# Step 23 - More Functions"
      ],
      "metadata": {
        "id": "rzaQj8dEOfzb"
      }
    },
    {
      "cell_type": "markdown",
      "source": [
        "Create a function that produces an interactive polynomial graph (with sliders). Use code from an earlier step."
      ],
      "metadata": {
        "id": "C6OV8KzQOTS_"
      }
    },
    {
      "cell_type": "code",
      "source": [
        "# Write your code here\n",
        "import numpy as np\n",
        "import matplotlib.pyplot as plt\n",
        "from ipywidgets import interactive, FloatSlider\n",
        "import ipywidgets as widgets\n",
        "\n",
        "def interactive_polynomial(a=1, b=0, c=0, d=0):\n",
        "    x_vals = np.linspace(-10, 10, 500)  # Intervallo di valori di x\n",
        "    y_vals = a*x_vals**3 + b*x_vals**2 + c*x_vals + d  # Polinomio di grado 3\n",
        "\n",
        "    plt.figure(figsize=(8, 6))\n",
        "    plt.plot(x_vals, y_vals, label=f\"{a}x³ + {b}x² + {c}x + {d}\", color=\"blue\")\n",
        "    plt.axhline(0, color=\"black\", linewidth=0.5)\n",
        "    plt.axvline(0, color=\"black\", linewidth=0.5)\n",
        "    plt.grid()\n",
        "    plt.title(\"Interactive Polynomial Graph\")\n",
        "    plt.xlabel(\"x\")\n",
        "    plt.ylabel(\"y\")\n",
        "    plt.legend()\n",
        "    plt.show()\n",
        "\n",
        "a_slider = FloatSlider(value=1, min=-10, max=10, step=0.1, description='a (x³)')\n",
        "b_slider = FloatSlider(value=0, min=-10, max=10, step=0.1, description='b (x²)')\n",
        "c_slider = FloatSlider(value=0, min=-10, max=10, step=0.1, description='c (x)')\n",
        "d_slider = FloatSlider(value=0, min=-10, max=10, step=0.1, description='d (constant)')\n",
        "\n",
        "interactive_plot = interactive(interactive_polynomial, a=a_slider, b=b_slider, c=c_slider, d=d_slider)\n",
        "interactive_plot\n",
        "\n",
        "# This step does not have a test"
      ],
      "metadata": {
        "id": "6cGh0vE1OYyC",
        "outputId": "745452ba-b6f1-44f4-b42c-fe5d4472eaee",
        "colab": {
          "base_uri": "https://localhost:8080/",
          "height": 692,
          "referenced_widgets": [
            "16f96f0f87d14c38921b0c81ec90e98d",
            "64b8ec32587a4708a561ddbed58a5aa6",
            "aba588a5a7ab4e8e96a4c4bca2559a06",
            "b2e0bea4fdf744098017b628f75c2d45",
            "507d329761a74471bdbe608d67be6cc9",
            "31576af9bac44f9b98f5e777b9cdfebd",
            "9abf303a1ee840e7a594414edbf31fe2",
            "7753a6f5ce4e4a3ba3582f80dc14f51a",
            "5b935e1e8a9149618423f3c5edc976a8",
            "4414ad3f45434a00b0c1dab1237015a9",
            "0ff0cf9d336142c99ce522032233f667",
            "3392fd96f73444319a145988e0fa252c",
            "e8b6df36610648508d329a239eb30343",
            "77322d1e5f1940fab6bb88480ca8595f",
            "4cf8fd9035fb4c6a9ebf491371928970",
            "d05f212f31084d589ec0fbbac28ae857"
          ]
        }
      },
      "execution_count": 52,
      "outputs": [
        {
          "output_type": "display_data",
          "data": {
            "text/plain": [
              "interactive(children=(FloatSlider(value=1.0, description='a (x³)', max=10.0, min=-10.0), FloatSlider(value=0.0…"
            ],
            "application/vnd.jupyter.widget-view+json": {
              "version_major": 2,
              "version_minor": 0,
              "model_id": "16f96f0f87d14c38921b0c81ec90e98d"
            }
          },
          "metadata": {}
        }
      ]
    },
    {
      "cell_type": "markdown",
      "source": [
        "# Step 24 - New Function"
      ],
      "metadata": {
        "id": "UptjjiCOTSS2"
      }
    },
    {
      "cell_type": "markdown",
      "source": [
        "Create a function to print the time required for money to double, given the rate. Use the continuous growth formula from an earlier step."
      ],
      "metadata": {
        "id": "XKXNbHzGTKAp"
      }
    },
    {
      "cell_type": "code",
      "source": [
        "# Write your code here\n",
        "def time_to_double():\n",
        "    print(\"Calculate Time to Double Money\")\n",
        "    annual_rate = float(input(\"Enter the annual interest rate (in %, e.g., 5 for 5%): \")) / 100\n",
        "\n",
        "    if annual_rate <= 0:\n",
        "        print(\"The rate must be greater than 0 to calculate doubling time.\")\n",
        "        return\n",
        "\n",
        "    # Formula: t = ln(2) / r\n",
        "    doubling_time = math.log(2) / annual_rate\n",
        "    print(f\"Time required to double the money: {doubling_time:.2f} years\")\n",
        "\n",
        "time_to_double()\n",
        "\n",
        "# This step does not have a test"
      ],
      "metadata": {
        "id": "kWs_IpxrTYyl",
        "outputId": "680e8960-1127-4344-9ccb-ca56220b0746",
        "colab": {
          "base_uri": "https://localhost:8080/"
        }
      },
      "execution_count": 53,
      "outputs": [
        {
          "output_type": "stream",
          "name": "stdout",
          "text": [
            "Calculate Time to Double Money\n",
            "Enter the annual interest rate (in %, e.g., 5 for 5%): 2\n",
            "Time required to double the money: 34.66 years\n"
          ]
        }
      ]
    },
    {
      "cell_type": "markdown",
      "source": [
        "# Step 25 - Certification Project 3"
      ],
      "metadata": {
        "id": "CRa5i8s3UCuL"
      }
    },
    {
      "cell_type": "markdown",
      "source": [
        "Build a financial app that does all of the following:<br>\n",
        "<ul>\n",
        "<li>Calculate annuity with monthly or continuous growth</li>\n",
        "<li>Calculate monthly mortgage payment</li>\n",
        "<li>Estimate retirement investment balance</li>\n",
        "<li>Determine how long until an amount doubles, given the rate</li>\n",
        "<li>Solve logarithmic equations</li>\n",
        "<li>Convert to (and from) scientific notation</li>\n",
        "</ul>"
      ],
      "metadata": {
        "id": "nngVpvqeT4U7"
      }
    },
    {
      "cell_type": "code",
      "source": [
        "# Write your code here\n",
        "import math\n",
        "\n",
        "def calculate_annuity():\n",
        "    print(\"\\nCalculate Annuity\")\n",
        "    principal = float(input(\"Enter the principal amount (€): \"))\n",
        "    rate = float(input(\"Enter the annual interest rate (%, e.g., 5 for 5%): \")) / 100\n",
        "    years = int(input(\"Enter the number of years: \"))\n",
        "    growth_type = input(\"Enter 'monthly' for monthly growth or 'continuous' for continuous growth: \").strip().lower()\n",
        "\n",
        "    if growth_type == 'monthly':\n",
        "        monthly_rate = rate / 12\n",
        "        months = years * 12\n",
        "        annuity = principal * (1 + monthly_rate)**months\n",
        "    elif growth_type == 'continuous':\n",
        "        annuity = principal * math.exp(rate * years)\n",
        "    else:\n",
        "        print(\"Invalid growth type. Please enter 'monthly' or 'continuous'.\")\n",
        "        return\n",
        "\n",
        "    print(f\"Annuity after {years} years: €{annuity:.2f}\")\n",
        "\n",
        "def calculate_mortgage():\n",
        "    print(\"\\nCalculate Monthly Mortgage Payment\")\n",
        "    principal = float(input(\"Enter the loan principal amount (€): \"))\n",
        "    annual_rate = float(input(\"Enter the annual interest rate (%, e.g., 5 for 5%): \")) / 100\n",
        "    years = int(input(\"Enter the loan term (in years): \"))\n",
        "\n",
        "    monthly_rate = annual_rate / 12\n",
        "    months = years * 12\n",
        "    if monthly_rate > 0:\n",
        "        monthly_payment = principal * (monthly_rate * (1 + monthly_rate)**months) / ((1 + monthly_rate)**months - 1)\n",
        "    else:\n",
        "        monthly_payment = principal / months\n",
        "\n",
        "    print(f\"Monthly mortgage payment: €{monthly_payment:.2f}\")\n",
        "\n",
        "def estimate_retirement_balance():\n",
        "    print(\"\\nEstimate Retirement Investment Balance\")\n",
        "    principal = float(input(\"Enter the initial investment amount (€): \"))\n",
        "    annual_rate = float(input(\"Enter the annual interest rate (%, e.g., 5 for 5%): \")) / 100\n",
        "    years = int(input(\"Enter the number of years: \"))\n",
        "    compounding_frequency = int(input(\"Enter the number of times interest is compounded per year (e.g., 12 for monthly): \"))\n",
        "\n",
        "    balance = principal * (1 + annual_rate / compounding_frequency)**(compounding_frequency * years)\n",
        "    print(f\"Estimated balance after {years} years: €{balance:.2f}\")\n",
        "\n",
        "def time_to_double():\n",
        "    print(\"\\nCalculate Time to Double Money\")\n",
        "    annual_rate = float(input(\"Enter the annual interest rate (%, e.g., 5 for 5%): \")) / 100\n",
        "\n",
        "    if annual_rate <= 0:\n",
        "        print(\"The rate must be greater than 0 to calculate doubling time.\")\n",
        "        return\n",
        "\n",
        "    doubling_time = math.log(2) / annual_rate\n",
        "    print(f\"Time required to double the money: {doubling_time:.2f} years\")\n",
        "\n",
        "def solve_log_equation():\n",
        "    print(\"\\nSolve Logarithmic Equation\")\n",
        "    print(\"Equation format: log_b(x) = y\")\n",
        "    base = float(input(\"Enter the base (b): \"))\n",
        "    result = float(input(\"Enter the result (y): \"))\n",
        "\n",
        "    if base <= 0 or base == 1:\n",
        "        print(\"Base must be greater than 0 and not equal to 1.\")\n",
        "        return\n",
        "\n",
        "    x = base**result\n",
        "    print(f\"The value of x is: {x:.2f}\")\n",
        "\n",
        "def scientific_notation_converter():\n",
        "    print(\"\\nScientific Notation Converter\")\n",
        "    choice = input(\"Enter '1' to convert to scientific notation or '2' to convert from scientific notation: \").strip()\n",
        "\n",
        "    if choice == '1':\n",
        "        number = float(input(\"Enter the number to convert: \"))\n",
        "        print(f\"Scientific notation: {number:.2e}\")\n",
        "    elif choice == '2':\n",
        "        scientific_notation = input(\"Enter the number in scientific notation (e.g., 1.23e4): \")\n",
        "        try:\n",
        "            number = float(scientific_notation)\n",
        "            print(f\"Decimal form: {number}\")\n",
        "        except ValueError:\n",
        "            print(\"Invalid scientific notation.\")\n",
        "    else:\n",
        "        print(\"Invalid choice. Please enter '1' or '2'.\")\n",
        "\n",
        "def financial_app_menu():\n",
        "    while True:\n",
        "        print(\"\\nFinancial App Menu:\")\n",
        "        print(\"1. Calculate Annuity\")\n",
        "        print(\"2. Calculate Monthly Mortgage Payment\")\n",
        "        print(\"3. Estimate Retirement Investment Balance\")\n",
        "        print(\"4. Determine Time to Double Money\")\n",
        "        print(\"5. Solve Logarithmic Equation\")\n",
        "        print(\"6. Convert to/from Scientific Notation\")\n",
        "        print(\"7. Exit\")\n",
        "\n",
        "        choice = input(\"Enter your choice (1-7): \")\n",
        "\n",
        "        if choice == '1':\n",
        "            calculate_annuity()\n",
        "        elif choice == '2':\n",
        "            calculate_mortgage()\n",
        "        elif choice == '3':\n",
        "            estimate_retirement_balance()\n",
        "        elif choice == '4':\n",
        "            time_to_double()\n",
        "        elif choice == '5':\n",
        "            solve_log_equation()\n",
        "        elif choice == '6':\n",
        "            scientific_notation_converter()\n",
        "        elif choice == '7':\n",
        "            print(\"Goodbye!\")\n",
        "            break\n",
        "        else:\n",
        "            print(\"Invalid choice. Please try again.\")\n",
        "\n",
        "financial_app_menu()\n",
        "\n",
        "# This step does not have a test"
      ],
      "metadata": {
        "id": "fa2o--pDT-Sd",
        "outputId": "07f1d5eb-172a-4cc7-be94-b4d46a38258e",
        "colab": {
          "base_uri": "https://localhost:8080/"
        }
      },
      "execution_count": 55,
      "outputs": [
        {
          "output_type": "stream",
          "name": "stdout",
          "text": [
            "\n",
            "Financial App Menu:\n",
            "1. Calculate Annuity\n",
            "2. Calculate Monthly Mortgage Payment\n",
            "3. Estimate Retirement Investment Balance\n",
            "4. Determine Time to Double Money\n",
            "5. Solve Logarithmic Equation\n",
            "6. Convert to/from Scientific Notation\n",
            "7. Exit\n",
            "Enter your choice (1-7): 1\n",
            "\n",
            "Calculate Annuity\n",
            "Enter the principal amount (€): 2\n",
            "Enter the annual interest rate (%, e.g., 5 for 5%): 2\n",
            "Enter the number of years: 2\n",
            "Enter 'monthly' for monthly growth or 'continuous' for continuous growth: monthly\n",
            "Annuity after 2 years: €2.08\n",
            "\n",
            "Financial App Menu:\n",
            "1. Calculate Annuity\n",
            "2. Calculate Monthly Mortgage Payment\n",
            "3. Estimate Retirement Investment Balance\n",
            "4. Determine Time to Double Money\n",
            "5. Solve Logarithmic Equation\n",
            "6. Convert to/from Scientific Notation\n",
            "7. Exit\n",
            "Enter your choice (1-7): 7\n",
            "Goodbye!\n"
          ]
        }
      ]
    }
  ]
}
